{
 "cells": [
  {
   "cell_type": "code",
   "execution_count": 7,
   "metadata": {},
   "outputs": [],
   "source": [
    "import torch, re, numpy as np, pandas as pd\n",
    "from transformers import AutoTokenizer, AutoModel, EsmModel\n",
    "from sklearn.metrics import roc_auc_score\n",
    "from sklearn.linear_model import LogisticRegression\n",
    "from sklearn.model_selection import cross_val_score\n",
    "from typing import List, Dict\n",
    "import torch.nn.functional as F\n",
    "\n",
    "from stream_train_sae import SimpleSAE, build_esm, esm_layer_hidden_states\n"
   ]
  },
  {
   "cell_type": "code",
   "execution_count": 8,
   "metadata": {},
   "outputs": [
    {
     "name": "stdout",
     "output_type": "stream",
     "text": [
      "Loaded SAE from step 5000\n",
      "Dictionary size: 10240\n",
      "Hidden dim: 1280\n"
     ]
    },
    {
     "name": "stderr",
     "output_type": "stream",
     "text": [
      "Some weights of EsmModel were not initialized from the model checkpoint at facebook/esm2_t33_650M_UR50D and are newly initialized: ['pooler.dense.bias', 'pooler.dense.weight']\n",
      "You should probably TRAIN this model on a down-stream task to be able to use it for predictions and inference.\n"
     ]
    },
    {
     "name": "stdout",
     "output_type": "stream",
     "text": [
      "\n",
      "Test Results:\n",
      "Reconstruction MSE: 7.341561\n",
      "Sparsity (% active): 12.102%\n",
      "Avg active features per token: 1239.2\n"
     ]
    }
   ],
   "source": [
    "import torch\n",
    "from stream_train_sae import SimpleSAE, build_esm, esm_layer_hidden_states\n",
    "\n",
    "# Load the trained SAE\n",
    "checkpoint_path = \"/home/ec2-user/SageMaker/InterPLM/checkpoints_large/sae_step_5000.pt\"  # Replace with your checkpoint\n",
    "checkpoint = torch.load(checkpoint_path, map_location='cuda')\n",
    "\n",
    "# Get config and create SAE\n",
    "config = checkpoint['config']\n",
    "sae = SimpleSAE(\n",
    "    d_in=config['d_hidden'],\n",
    "    n_feats=config['n_feats'],\n",
    "    tied=False\n",
    ").cuda()\n",
    "\n",
    "# Load the trained weights\n",
    "sae.load_state_dict(checkpoint['sae_state_dict'])\n",
    "sae.eval()\n",
    "\n",
    "print(f\"Loaded SAE from step {checkpoint['step']}\")\n",
    "print(f\"Dictionary size: {config['n_feats']}\")\n",
    "print(f\"Hidden dim: {config['d_hidden']}\")\n",
    "\n",
    "# Load ESM model for getting embeddings\n",
    "model, tokenizer = build_esm()\n",
    "\n",
    "# Test on a single sequence\n",
    "test_seq = \"MKTVRQERLKSIVRILERSKEPVSGAQLAEELSVSRQVIVQDIAYLRSLGYNIVATPRGYVLAGG\"\n",
    "\n",
    "# Get ESM embeddings\n",
    "with torch.no_grad():\n",
    "    # Get hidden states from ESM\n",
    "    hiddens, mask = esm_layer_hidden_states([test_seq], model, tokenizer)\n",
    "    \n",
    "    # Flatten and prepare for SAE\n",
    "    x = hiddens[mask].float()  # [N_tokens, 1280]\n",
    "    \n",
    "    # Pass through SAE\n",
    "    x_reconstructed, z = sae(x)\n",
    "    \n",
    "    # Calculate metrics\n",
    "    recon_error = F.mse_loss(x_reconstructed, x).item()\n",
    "    sparsity = (z > 0).float().mean().item()\n",
    "    n_active = (z > 0).sum(dim=1).float().mean().item()\n",
    "    \n",
    "print(f\"\\nTest Results:\")\n",
    "print(f\"Reconstruction MSE: {recon_error:.6f}\")\n",
    "print(f\"Sparsity (% active): {sparsity:.3%}\")\n",
    "print(f\"Avg active features per token: {n_active:.1f}\")"
   ]
  },
  {
   "cell_type": "code",
   "execution_count": null,
   "metadata": {},
   "outputs": [],
   "source": []
  },
  {
   "cell_type": "code",
   "execution_count": null,
   "metadata": {},
   "outputs": [],
   "source": []
  },
  {
   "cell_type": "code",
   "execution_count": 3,
   "metadata": {},
   "outputs": [],
   "source": [
    "plm_model = \"esm2-650m\"\n",
    "plm_layer = 24          \n",
    "# sae = load_sae_from_hf(plm_model=plm_model, plm_layer=plm_layer).to(device).eval()\n",
    "sae = \"/home/ec2-user/SageMaker/InterPLM/checkpoints_large/sae_step_5000.pt\"\n"
   ]
  },
  {
   "cell_type": "code",
   "execution_count": 4,
   "metadata": {},
   "outputs": [
    {
     "name": "stdout",
     "output_type": "stream",
     "text": [
      "AutoEncoder(\n",
      "  (encoder): Linear(in_features=1280, out_features=10240, bias=True)\n",
      "  (decoder): Linear(in_features=10240, out_features=1280, bias=False)\n",
      ")\n"
     ]
    }
   ],
   "source": [
    "print(sae)"
   ]
  },
  {
   "cell_type": "code",
   "execution_count": 6,
   "metadata": {},
   "outputs": [],
   "source": [
    "seqs = {\n",
    "    \"Ab_H\": \"EVQLVESGGGLVQPGGSLRLSCAASGFTFSSYAMHWVRQAPGKGLEWVSYISSGSSSYIYYADSVKGRFTISRDNSKNTLYLQMNSLRAEDTAVYYCARGLGGFGDYWGQGTLVTVSS\",\n",
    "}\n"
   ]
  },
  {
   "cell_type": "markdown",
   "metadata": {},
   "source": [
    "## Get hidden states & SAE features (per residue)\n",
    "\n"
   ]
  },
  {
   "cell_type": "code",
   "execution_count": 9,
   "metadata": {},
   "outputs": [
    {
     "name": "stdout",
     "output_type": "stream",
     "text": [
      "torch.Size([120, 1280])\n",
      "Dictorionary size(features): 10240\n"
     ]
    }
   ],
   "source": [
    "@torch.no_grad()\n",
    "def esm_layer_reps(seq: str):\n",
    "    t = tokenizer(seq, return_tensors=\"pt\", add_special_tokens=True).to(device)\n",
    "    out = model(**t)\n",
    "    h = out.hidden_states[plm_layer][0] #(L+2, d), [0] to get rid of the batch dimension so its normally (B, L+2, d) where d= 1280\n",
    "    print(h.shape)\n",
    "    return h[1:-1] #strip CLS/EOS -> (L,d)\n",
    "\n",
    "@torch.no_grad()\n",
    "def sae_features(h): #H: (L,d)\n",
    "    f = sae.encode(h) #L, Ddict), roughly in [0, 1], sparse\n",
    "    h_rec = sae.decode(f)\n",
    "    err = h - h_rec #useful for steering later? hm\n",
    "    return f, h_rec, err\n",
    "\n",
    "features_per_seq : Dict[str, torch.Tensor] = {}\n",
    "lengths = {}\n",
    "\n",
    "for name, seq in seqs.items():\n",
    "    h = esm_layer_reps(seq)\n",
    "    f, _, _ = sae_features(h)\n",
    "    features_per_seq[name] = f #(L, D)\n",
    "    lengths[name] = len(seq)\n",
    "\n",
    "D = next(iter(features_per_seq.values())).shape[1]\n",
    "print(\"Dictorionary size(features):\", D)\n"
   ]
  },
  {
   "cell_type": "code",
   "execution_count": 10,
   "metadata": {},
   "outputs": [
    {
     "name": "stdout",
     "output_type": "stream",
     "text": [
      "torch.Size([120, 1280])\n"
     ]
    },
    {
     "data": {
      "text/plain": [
       "tensor([[-10.4504,  19.4505,  11.3402,  ...,  -0.3911,  -0.9232,   1.8859],\n",
       "        [ -6.1209,  10.2938,   2.9786,  ...,  -1.9253,   5.5663,  -1.6059],\n",
       "        [ -5.1847,   6.1780,  -0.3910,  ...,   2.2540,  -0.6244,  -1.6850],\n",
       "        ...,\n",
       "        [ -5.8453,  20.0732,  -0.6450,  ..., -10.4917,  -7.0448,   0.5548],\n",
       "        [ -1.0779,  21.0717,   4.8077,  ...,  -5.9967,   0.1423,   4.9940],\n",
       "        [  4.7114,  19.3804,   9.1147,  ..., -16.4988,   3.1150,   1.7367]],\n",
       "       device='cuda:0')"
      ]
     },
     "execution_count": 10,
     "metadata": {},
     "output_type": "execute_result"
    }
   ],
   "source": [
    "esm_layer_reps(seqs[\"Ab_H\"])"
   ]
  },
  {
   "cell_type": "markdown",
   "metadata": {},
   "source": [
    "## Summarize features"
   ]
  },
  {
   "cell_type": "code",
   "execution_count": 12,
   "metadata": {},
   "outputs": [
    {
     "data": {
      "text/html": [
       "<div>\n",
       "<style scoped>\n",
       "    .dataframe tbody tr th:only-of-type {\n",
       "        vertical-align: middle;\n",
       "    }\n",
       "\n",
       "    .dataframe tbody tr th {\n",
       "        vertical-align: top;\n",
       "    }\n",
       "\n",
       "    .dataframe thead th {\n",
       "        text-align: right;\n",
       "    }\n",
       "</style>\n",
       "<table border=\"1\" class=\"dataframe\">\n",
       "  <thead>\n",
       "    <tr style=\"text-align: right;\">\n",
       "      <th></th>\n",
       "      <th>top_features</th>\n",
       "    </tr>\n",
       "  </thead>\n",
       "  <tbody>\n",
       "    <tr>\n",
       "      <th>Ab_H</th>\n",
       "      <td>f/4574:0.62, f/1061:0.16, f/6756:0.14, f/3162:...</td>\n",
       "    </tr>\n",
       "    <tr>\n",
       "      <th>Ab_L</th>\n",
       "      <td>f/4574:0.67, f/1061:0.18, f/6756:0.13, f/3162:...</td>\n",
       "    </tr>\n",
       "    <tr>\n",
       "      <th>Collagen_like</th>\n",
       "      <td>f/5933:0.33, f/2816:0.26, f/6819:0.23, f/59:0....</td>\n",
       "    </tr>\n",
       "    <tr>\n",
       "      <th>His_rich</th>\n",
       "      <td>f/602:0.26, f/5724:0.25, f/3948:0.22, f/1524:0...</td>\n",
       "    </tr>\n",
       "    <tr>\n",
       "      <th>NGlyc</th>\n",
       "      <td>f/3772:0.42, f/9936:0.30, f/4129:0.28, f/9872:...</td>\n",
       "    </tr>\n",
       "    <tr>\n",
       "      <th>CysPair</th>\n",
       "      <td>f/9824:0.46, f/3130:0.30, f/5724:0.21, f/7819:...</td>\n",
       "    </tr>\n",
       "  </tbody>\n",
       "</table>\n",
       "</div>"
      ],
      "text/plain": [
       "                                                    top_features\n",
       "Ab_H           f/4574:0.62, f/1061:0.16, f/6756:0.14, f/3162:...\n",
       "Ab_L           f/4574:0.67, f/1061:0.18, f/6756:0.13, f/3162:...\n",
       "Collagen_like  f/5933:0.33, f/2816:0.26, f/6819:0.23, f/59:0....\n",
       "His_rich       f/602:0.26, f/5724:0.25, f/3948:0.22, f/1524:0...\n",
       "NGlyc          f/3772:0.42, f/9936:0.30, f/4129:0.28, f/9872:...\n",
       "CysPair        f/9824:0.46, f/3130:0.30, f/5724:0.21, f/7819:..."
      ]
     },
     "execution_count": 12,
     "metadata": {},
     "output_type": "execute_result"
    }
   ],
   "source": [
    "def pool_features(f):\n",
    "    return torch.cat([f.mean(0), f.max(0).values]) #(2D,)\n",
    "X_rows, names = [], []\n",
    "\n",
    "for name, f in features_per_seq.items():\n",
    "    X_rows.append(pool_features(f).cpu().numpy())\n",
    "    names.append(name)\n",
    "\n",
    "X = np.vstack(X_rows) #shape (N, 2D)\n",
    "\n",
    "df_top = pd.DataFrame(index=names)\n",
    "\n",
    "#list each sequences top-10 features by mean activation\n",
    "topk = 10\n",
    "for i, name in enumerate(names):\n",
    "    mean_feats = X[i, :D]\n",
    "    top_ids = np.argsort(mean_feats)[::-1][:topk]\n",
    "    df_top.loc[name, \"top_features\"] = \", \".join([f\"f/{int(j)}:{mean_feats[j]:.2f}\" for j in top_ids])\n",
    "df_top"
   ]
  },
  {
   "cell_type": "code",
   "execution_count": 14,
   "metadata": {},
   "outputs": [
    {
     "data": {
      "image/png": "[encoded data removed]",
      "text/plain": [
       "<Figure size 1000x180 with 2 Axes>"
      ]
     },
     "metadata": {},
     "output_type": "display_data"
    }
   ],
   "source": [
    "import matplotlib.pyplot as plt\n",
    "def plot_feature_heatmap(name: str, feat_id: int):\n",
    "    f = features_per_seq[name] #(L, D)\n",
    "    a = f[:, feat_id].cpu().numpy() #(L, )\n",
    "    plt.figure(figsize=(10,1.8))\n",
    "    plt.imshow(a[None,:], aspect=\"auto\")\n",
    "    plt.yticks([])\n",
    "    plt.colorbar(label=f\"activation f/{feat_id}\")\n",
    "    plt.title(f\"{name}: per-residue activation\")\n",
    "    plt.xlabel(\"position\")\n",
    "    plt.show()\n",
    "# example: plot the top feature for Ab_H\n",
    "first_top = int(df_top.loc[\"Ab_H\",\"top_features\"].split(\",\")[0].split(\"/\")[1].split(\":\")[0])\n",
    "plot_feature_heatmap(\"Ab_H\", first_top)"
   ]
  },
  {
   "cell_type": "code",
   "execution_count": 15,
   "metadata": {},
   "outputs": [
    {
     "data": {
      "text/html": [
       "<div>\n",
       "<style scoped>\n",
       "    .dataframe tbody tr th:only-of-type {\n",
       "        vertical-align: middle;\n",
       "    }\n",
       "\n",
       "    .dataframe tbody tr th {\n",
       "        vertical-align: top;\n",
       "    }\n",
       "\n",
       "    .dataframe thead th {\n",
       "        text-align: right;\n",
       "    }\n",
       "</style>\n",
       "<table border=\"1\" class=\"dataframe\">\n",
       "  <thead>\n",
       "    <tr style=\"text-align: right;\">\n",
       "      <th></th>\n",
       "      <th>nglyc</th>\n",
       "      <th>cys_pair</th>\n",
       "      <th>his_rich</th>\n",
       "      <th>gly_periodic</th>\n",
       "    </tr>\n",
       "    <tr>\n",
       "      <th>name</th>\n",
       "      <th></th>\n",
       "      <th></th>\n",
       "      <th></th>\n",
       "      <th></th>\n",
       "    </tr>\n",
       "  </thead>\n",
       "  <tbody>\n",
       "    <tr>\n",
       "      <th>Ab_H</th>\n",
       "      <td>False</td>\n",
       "      <td>False</td>\n",
       "      <td>False</td>\n",
       "      <td>False</td>\n",
       "    </tr>\n",
       "    <tr>\n",
       "      <th>Ab_L</th>\n",
       "      <td>False</td>\n",
       "      <td>False</td>\n",
       "      <td>False</td>\n",
       "      <td>False</td>\n",
       "    </tr>\n",
       "    <tr>\n",
       "      <th>Collagen_like</th>\n",
       "      <td>False</td>\n",
       "      <td>False</td>\n",
       "      <td>False</td>\n",
       "      <td>True</td>\n",
       "    </tr>\n",
       "    <tr>\n",
       "      <th>His_rich</th>\n",
       "      <td>False</td>\n",
       "      <td>False</td>\n",
       "      <td>True</td>\n",
       "      <td>False</td>\n",
       "    </tr>\n",
       "    <tr>\n",
       "      <th>NGlyc</th>\n",
       "      <td>True</td>\n",
       "      <td>False</td>\n",
       "      <td>False</td>\n",
       "      <td>False</td>\n",
       "    </tr>\n",
       "    <tr>\n",
       "      <th>CysPair</th>\n",
       "      <td>False</td>\n",
       "      <td>True</td>\n",
       "      <td>False</td>\n",
       "      <td>False</td>\n",
       "    </tr>\n",
       "  </tbody>\n",
       "</table>\n",
       "</div>"
      ],
      "text/plain": [
       "               nglyc  cys_pair  his_rich  gly_periodic\n",
       "name                                                  \n",
       "Ab_H           False     False     False         False\n",
       "Ab_L           False     False     False         False\n",
       "Collagen_like  False     False     False          True\n",
       "His_rich       False     False      True         False\n",
       "NGlyc           True     False     False         False\n",
       "CysPair        False      True     False         False"
      ]
     },
     "execution_count": 15,
     "metadata": {},
     "output_type": "execute_result"
    }
   ],
   "source": [
    "def has_nglyc(s:str): return re.search(r\"N[^P][ST]\", s) is not None\n",
    "def has_cyspair(s:str): return re.search(r\"C.{0,20}C\", s) is not None\n",
    "def his_rich(s:str): return s.count(\"H\") >= 6\n",
    "def gly_periodic(s:str): return re.search(r\"G..G..G\", s) is not None\n",
    "\n",
    "labels = pd.DataFrame({\n",
    "    \"name\": names,\n",
    "    \"nglyc\": [has_nglyc(seqs[n]) for n in names],\n",
    "    \"cys_pair\": [has_cyspair(seqs[n]) for n in names],\n",
    "    \"his_rich\": [his_rich(seqs[n]) for n in names],\n",
    "    \"gly_periodic\": [gly_periodic(seqs[n]) for n in names],\n",
    "}).set_index(\"name\")\n",
    "labels"
   ]
  },
  {
   "cell_type": "code",
   "execution_count": 16,
   "metadata": {},
   "outputs": [
    {
     "data": {
      "text/plain": [
       "{'nglyc': [(6184, 1.0),\n",
       "  (6192, 1.0),\n",
       "  (10181, 1.0),\n",
       "  (6247, 1.0),\n",
       "  (77, 1.0),\n",
       "  (7810, 1.0),\n",
       "  (3792, 1.0),\n",
       "  (1, 1.0),\n",
       "  (3807, 1.0),\n",
       "  (7820, 1.0)],\n",
       " 'cys_pair': [(10214, 1.0),\n",
       "  (7819, 1.0),\n",
       "  (7822, 1.0),\n",
       "  (10199, 1.0),\n",
       "  (10197, 1.0),\n",
       "  (2904, 1.0),\n",
       "  (2902, 1.0),\n",
       "  (9322, 1.0),\n",
       "  (2938, 1.0),\n",
       "  (2935, 1.0)],\n",
       " 'his_rich': [(45, 1.0),\n",
       "  (10180, 1.0),\n",
       "  (3935, 1.0),\n",
       "  (6213, 1.0),\n",
       "  (3884, 1.0),\n",
       "  (7685, 1.0),\n",
       "  (3835, 1.0),\n",
       "  (6221, 1.0),\n",
       "  (6291, 1.0),\n",
       "  (6287, 1.0)],\n",
       " 'gly_periodic': [(54, 1.0),\n",
       "  (59, 1.0),\n",
       "  (6454, 1.0),\n",
       "  (7998, 1.0),\n",
       "  (10158, 1.0),\n",
       "  (179, 1.0),\n",
       "  (6451, 1.0),\n",
       "  (3740, 1.0),\n",
       "  (49, 1.0),\n",
       "  (6328, 1.0)]}"
      ]
     },
     "execution_count": 16,
     "metadata": {},
     "output_type": "execute_result"
    }
   ],
   "source": [
    "meanX = X[:, :D] #sequence-level mean activation (N, D)\n",
    "\n",
    "def feature_screen_auc(y_bool):\n",
    "    y = y_bool.astype(int)\n",
    "    aucs = []\n",
    "    for j in range(D):\n",
    "        scores = meanX[:, j]\n",
    "\n",
    "        if len(np.unique(y)) < 2 or len (np.unique(scores)) < 2:\n",
    "            aucs.append(np.nan)\n",
    "        else:\n",
    "            aucs.append(roc_auc_score(y, scores))\n",
    "    return np.array(aucs)\n",
    "screen = {}\n",
    "\n",
    "for col in [\"nglyc\", \"cys_pair\", \"his_rich\", \"gly_periodic\"]:\n",
    "    aucs = feature_screen_auc(labels[col].values)\n",
    "    top = np.argsort(np.nan_to_num(aucs, nan=-1))[::-1][:10]\n",
    "    screen[col] = [(int(j), aucs[j]) for j in top]\n",
    "screen #shows top feature IDs & AUCs per concept"
   ]
  },
  {
   "cell_type": "code",
   "execution_count": 19,
   "metadata": {},
   "outputs": [
    {
     "name": "stderr",
     "output_type": "stream",
     "text": [
      "/home/ec2-user/SageMaker/.cs/conda/envs/interplm/lib/python3.11/site-packages/sklearn/model_selection/_split.py:811: UserWarning: The least populated class in y has only 1 members, which is less than n_splits=5.\n",
      "  warnings.warn(\n",
      "/home/ec2-user/SageMaker/.cs/conda/envs/interplm/lib/python3.11/site-packages/sklearn/metrics/_ranking.py:424: UndefinedMetricWarning: Only one class is present in y_true. ROC AUC score is not defined in that case.\n",
      "  warnings.warn(\n",
      "/home/ec2-user/SageMaker/.cs/conda/envs/interplm/lib/python3.11/site-packages/sklearn/metrics/_ranking.py:424: UndefinedMetricWarning: Only one class is present in y_true. ROC AUC score is not defined in that case.\n",
      "  warnings.warn(\n",
      "/home/ec2-user/SageMaker/.cs/conda/envs/interplm/lib/python3.11/site-packages/sklearn/metrics/_ranking.py:424: UndefinedMetricWarning: Only one class is present in y_true. ROC AUC score is not defined in that case.\n",
      "  warnings.warn(\n",
      "/home/ec2-user/SageMaker/.cs/conda/envs/interplm/lib/python3.11/site-packages/sklearn/metrics/_ranking.py:424: UndefinedMetricWarning: Only one class is present in y_true. ROC AUC score is not defined in that case.\n",
      "  warnings.warn(\n",
      "/home/ec2-user/SageMaker/.cs/conda/envs/interplm/lib/python3.11/site-packages/sklearn/model_selection/_validation.py:516: FitFailedWarning: \n",
      "1 fits failed out of a total of 5.\n",
      "The score on these train-test partitions for these parameters will be set to nan.\n",
      "If these failures are not expected, you can try to debug them by setting error_score='raise'.\n",
      "\n",
      "Below are more details about the failures:\n",
      "--------------------------------------------------------------------------------\n",
      "1 fits failed with the following error:\n",
      "Traceback (most recent call last):\n",
      "  File \"/home/ec2-user/SageMaker/.cs/conda/envs/interplm/lib/python3.11/site-packages/sklearn/model_selection/_validation.py\", line 859, in _fit_and_score\n",
      "    estimator.fit(X_train, y_train, **fit_params)\n",
      "  File \"/home/ec2-user/SageMaker/.cs/conda/envs/interplm/lib/python3.11/site-packages/sklearn/base.py\", line 1363, in wrapper\n",
      "    return fit_method(estimator, *args, **kwargs)\n",
      "           ^^^^^^^^^^^^^^^^^^^^^^^^^^^^^^^^^^^^^^\n",
      "  File \"/home/ec2-user/SageMaker/.cs/conda/envs/interplm/lib/python3.11/site-packages/sklearn/linear_model/_logistic.py\", line 1327, in fit\n",
      "    raise ValueError(\n",
      "ValueError: This solver needs samples of at least 2 classes in the data, but the data contains only one class: 0\n",
      "\n",
      "  warnings.warn(some_fits_failed_message, FitFailedWarning)\n"
     ]
    },
    {
     "name": "stdout",
     "output_type": "stream",
     "text": [
      "nglyc: AUC=nan | top_feats=[   54    59  6454  7998 10158   179  6451  3740]\n"
     ]
    },
    {
     "name": "stderr",
     "output_type": "stream",
     "text": [
      "/home/ec2-user/SageMaker/.cs/conda/envs/interplm/lib/python3.11/site-packages/sklearn/model_selection/_split.py:811: UserWarning: The least populated class in y has only 1 members, which is less than n_splits=5.\n",
      "  warnings.warn(\n",
      "/home/ec2-user/SageMaker/.cs/conda/envs/interplm/lib/python3.11/site-packages/sklearn/metrics/_ranking.py:424: UndefinedMetricWarning: Only one class is present in y_true. ROC AUC score is not defined in that case.\n",
      "  warnings.warn(\n",
      "/home/ec2-user/SageMaker/.cs/conda/envs/interplm/lib/python3.11/site-packages/sklearn/metrics/_ranking.py:424: UndefinedMetricWarning: Only one class is present in y_true. ROC AUC score is not defined in that case.\n",
      "  warnings.warn(\n",
      "/home/ec2-user/SageMaker/.cs/conda/envs/interplm/lib/python3.11/site-packages/sklearn/metrics/_ranking.py:424: UndefinedMetricWarning: Only one class is present in y_true. ROC AUC score is not defined in that case.\n",
      "  warnings.warn(\n",
      "/home/ec2-user/SageMaker/.cs/conda/envs/interplm/lib/python3.11/site-packages/sklearn/metrics/_ranking.py:424: UndefinedMetricWarning: Only one class is present in y_true. ROC AUC score is not defined in that case.\n",
      "  warnings.warn(\n",
      "/home/ec2-user/SageMaker/.cs/conda/envs/interplm/lib/python3.11/site-packages/sklearn/model_selection/_validation.py:516: FitFailedWarning: \n",
      "1 fits failed out of a total of 5.\n",
      "The score on these train-test partitions for these parameters will be set to nan.\n",
      "If these failures are not expected, you can try to debug them by setting error_score='raise'.\n",
      "\n",
      "Below are more details about the failures:\n",
      "--------------------------------------------------------------------------------\n",
      "1 fits failed with the following error:\n",
      "Traceback (most recent call last):\n",
      "  File \"/home/ec2-user/SageMaker/.cs/conda/envs/interplm/lib/python3.11/site-packages/sklearn/model_selection/_validation.py\", line 859, in _fit_and_score\n",
      "    estimator.fit(X_train, y_train, **fit_params)\n",
      "  File \"/home/ec2-user/SageMaker/.cs/conda/envs/interplm/lib/python3.11/site-packages/sklearn/base.py\", line 1363, in wrapper\n",
      "    return fit_method(estimator, *args, **kwargs)\n",
      "           ^^^^^^^^^^^^^^^^^^^^^^^^^^^^^^^^^^^^^^\n",
      "  File \"/home/ec2-user/SageMaker/.cs/conda/envs/interplm/lib/python3.11/site-packages/sklearn/linear_model/_logistic.py\", line 1327, in fit\n",
      "    raise ValueError(\n",
      "ValueError: This solver needs samples of at least 2 classes in the data, but the data contains only one class: 0\n",
      "\n",
      "  warnings.warn(some_fits_failed_message, FitFailedWarning)\n"
     ]
    },
    {
     "name": "stdout",
     "output_type": "stream",
     "text": [
      "cys_pair: AUC=nan | top_feats=[   54    59  6454  7998 10158   179  6451  3740]\n"
     ]
    },
    {
     "name": "stderr",
     "output_type": "stream",
     "text": [
      "/home/ec2-user/SageMaker/.cs/conda/envs/interplm/lib/python3.11/site-packages/sklearn/model_selection/_split.py:811: UserWarning: The least populated class in y has only 1 members, which is less than n_splits=5.\n",
      "  warnings.warn(\n",
      "/home/ec2-user/SageMaker/.cs/conda/envs/interplm/lib/python3.11/site-packages/sklearn/metrics/_ranking.py:424: UndefinedMetricWarning: Only one class is present in y_true. ROC AUC score is not defined in that case.\n",
      "  warnings.warn(\n",
      "/home/ec2-user/SageMaker/.cs/conda/envs/interplm/lib/python3.11/site-packages/sklearn/metrics/_ranking.py:424: UndefinedMetricWarning: Only one class is present in y_true. ROC AUC score is not defined in that case.\n",
      "  warnings.warn(\n",
      "/home/ec2-user/SageMaker/.cs/conda/envs/interplm/lib/python3.11/site-packages/sklearn/metrics/_ranking.py:424: UndefinedMetricWarning: Only one class is present in y_true. ROC AUC score is not defined in that case.\n",
      "  warnings.warn(\n",
      "/home/ec2-user/SageMaker/.cs/conda/envs/interplm/lib/python3.11/site-packages/sklearn/metrics/_ranking.py:424: UndefinedMetricWarning: Only one class is present in y_true. ROC AUC score is not defined in that case.\n",
      "  warnings.warn(\n",
      "/home/ec2-user/SageMaker/.cs/conda/envs/interplm/lib/python3.11/site-packages/sklearn/model_selection/_validation.py:516: FitFailedWarning: \n",
      "1 fits failed out of a total of 5.\n",
      "The score on these train-test partitions for these parameters will be set to nan.\n",
      "If these failures are not expected, you can try to debug them by setting error_score='raise'.\n",
      "\n",
      "Below are more details about the failures:\n",
      "--------------------------------------------------------------------------------\n",
      "1 fits failed with the following error:\n",
      "Traceback (most recent call last):\n",
      "  File \"/home/ec2-user/SageMaker/.cs/conda/envs/interplm/lib/python3.11/site-packages/sklearn/model_selection/_validation.py\", line 859, in _fit_and_score\n",
      "    estimator.fit(X_train, y_train, **fit_params)\n",
      "  File \"/home/ec2-user/SageMaker/.cs/conda/envs/interplm/lib/python3.11/site-packages/sklearn/base.py\", line 1363, in wrapper\n",
      "    return fit_method(estimator, *args, **kwargs)\n",
      "           ^^^^^^^^^^^^^^^^^^^^^^^^^^^^^^^^^^^^^^\n",
      "  File \"/home/ec2-user/SageMaker/.cs/conda/envs/interplm/lib/python3.11/site-packages/sklearn/linear_model/_logistic.py\", line 1327, in fit\n",
      "    raise ValueError(\n",
      "ValueError: This solver needs samples of at least 2 classes in the data, but the data contains only one class: 0\n",
      "\n",
      "  warnings.warn(some_fits_failed_message, FitFailedWarning)\n"
     ]
    },
    {
     "name": "stdout",
     "output_type": "stream",
     "text": [
      "his_rich: AUC=nan | top_feats=[   54    59  6454  7998 10158   179  6451  3740]\n",
      "gly_periodic: AUC=nan | top_feats=[   54    59  6454  7998 10158   179  6451  3740]\n"
     ]
    },
    {
     "name": "stderr",
     "output_type": "stream",
     "text": [
      "/home/ec2-user/SageMaker/.cs/conda/envs/interplm/lib/python3.11/site-packages/sklearn/model_selection/_split.py:811: UserWarning: The least populated class in y has only 1 members, which is less than n_splits=5.\n",
      "  warnings.warn(\n",
      "/home/ec2-user/SageMaker/.cs/conda/envs/interplm/lib/python3.11/site-packages/sklearn/metrics/_ranking.py:424: UndefinedMetricWarning: Only one class is present in y_true. ROC AUC score is not defined in that case.\n",
      "  warnings.warn(\n",
      "/home/ec2-user/SageMaker/.cs/conda/envs/interplm/lib/python3.11/site-packages/sklearn/metrics/_ranking.py:424: UndefinedMetricWarning: Only one class is present in y_true. ROC AUC score is not defined in that case.\n",
      "  warnings.warn(\n",
      "/home/ec2-user/SageMaker/.cs/conda/envs/interplm/lib/python3.11/site-packages/sklearn/metrics/_ranking.py:424: UndefinedMetricWarning: Only one class is present in y_true. ROC AUC score is not defined in that case.\n",
      "  warnings.warn(\n",
      "/home/ec2-user/SageMaker/.cs/conda/envs/interplm/lib/python3.11/site-packages/sklearn/metrics/_ranking.py:424: UndefinedMetricWarning: Only one class is present in y_true. ROC AUC score is not defined in that case.\n",
      "  warnings.warn(\n",
      "/home/ec2-user/SageMaker/.cs/conda/envs/interplm/lib/python3.11/site-packages/sklearn/model_selection/_validation.py:516: FitFailedWarning: \n",
      "1 fits failed out of a total of 5.\n",
      "The score on these train-test partitions for these parameters will be set to nan.\n",
      "If these failures are not expected, you can try to debug them by setting error_score='raise'.\n",
      "\n",
      "Below are more details about the failures:\n",
      "--------------------------------------------------------------------------------\n",
      "1 fits failed with the following error:\n",
      "Traceback (most recent call last):\n",
      "  File \"/home/ec2-user/SageMaker/.cs/conda/envs/interplm/lib/python3.11/site-packages/sklearn/model_selection/_validation.py\", line 859, in _fit_and_score\n",
      "    estimator.fit(X_train, y_train, **fit_params)\n",
      "  File \"/home/ec2-user/SageMaker/.cs/conda/envs/interplm/lib/python3.11/site-packages/sklearn/base.py\", line 1363, in wrapper\n",
      "    return fit_method(estimator, *args, **kwargs)\n",
      "           ^^^^^^^^^^^^^^^^^^^^^^^^^^^^^^^^^^^^^^\n",
      "  File \"/home/ec2-user/SageMaker/.cs/conda/envs/interplm/lib/python3.11/site-packages/sklearn/linear_model/_logistic.py\", line 1327, in fit\n",
      "    raise ValueError(\n",
      "ValueError: This solver needs samples of at least 2 classes in the data, but the data contains only one class: 0\n",
      "\n",
      "  warnings.warn(some_fits_failed_message, FitFailedWarning)\n"
     ]
    }
   ],
   "source": [
    "def mini_probe(target: str, k: int=16):\n",
    "    y = labels[target].astype(int).values\n",
    "    auc = feature_screen_auc(y)\n",
    "    top = np.argsort(np.nan_to_num(aucs, nan=-1))[::-1][:k]\n",
    "    X_probe = meanX[:, top]\n",
    "    if len (np.unique(y)) <2:\n",
    "        return None, None, top\n",
    "    clf = LogisticRegression(max_iter=1000)\n",
    "    auc = cross_val_score(clf, X_probe, y, cv=min(5, len(y)), scoring=\"roc_auc\").mean()\n",
    "    return auc, top, top\n",
    "\n",
    "for target in [\"nglyc\",\"cys_pair\",\"his_rich\",\"gly_periodic\"]:\n",
    "    auc, top, _ = mini_probe(target, k=8)\n",
    "    print(f\"{target}: AUC={auc} | top_feats={top}\")"
   ]
  },
  {
   "cell_type": "code",
   "execution_count": null,
   "metadata": {},
   "outputs": [],
   "source": []
  }
 ],
 "metadata": {
  "kernelspec": {
   "display_name": "Python 3.11.13 ('interplm')",
   "language": "python",
   "name": "python3"
  },
  "language_info": {
   "codemirror_mode": {
    "name": "ipython",
    "version": 3
   },
   "file_extension": ".py",
   "mimetype": "text/x-python",
   "name": "python",
   "nbconvert_exporter": "python",
   "pygments_lexer": "ipython3",
   "version": "3.11.13"
  },
  "orig_nbformat": 4,
  "vscode": {
   "interpreter": {
    "hash": "1106d1d489397abf5d77132595a521cf67d890f951d991cd34215b053d2a27e6"
   }
  }
 },
 "nbformat": 4,
 "nbformat_minor": 2
}
