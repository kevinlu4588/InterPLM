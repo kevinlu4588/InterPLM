{
 "cells": [
  {
   "cell_type": "code",
   "execution_count": 15,
   "metadata": {},
   "outputs": [
    {
     "name": "stdout",
     "output_type": "stream",
     "text": [
      "=== Columns ===\n",
      "['{\"Run\": \"1a_S1mod2_S1_\", \"Link\": \"https://doi.org/10.1038/s41590-022-01230-1\", \"Author\": \"Phad et al., 2022\", \"Species\": \"human\", \"Age\": \"no\", \"BSource\": \"PBMC\", \"BType\": \"Plasma-B-Cells\", \"Vaccine\": \"None\", \"Disease\": \"None\", \"Subject\": \"Donor-2\", \"Longitudinal\": \"May-Year-2020\", \"Unique sequences\": 2287, \"Isotype\": \"All\", \"Chain\": \"Paired\"}']\n",
      "\n",
      "=== Shape ===\n",
      "(2288, 1)\n",
      "\n",
      "=== First 5 rows ===\n",
      "                                                                                                                                                                                                                                                                                                                                                                                                                                                                                                                                                                                                                                                                                                                                                                                                                                                                                                                                                                                                                                                                                                                                                                                                                                                                                                                                                                                                                                                                                                                                                                                                                                                                                                                                                                                                                                                                                                                                                                                                                                                                                                                                                                                                                                                                                                                                                                                                                                                                                                                                                                                                                                                                                                                                                                                                                                                                                                                                                                                                                                                                                                                                                                                                                                                                                                                                                                                                                                                                                                                                                                                                                                                                                                                                                                                                                                                                                                                                                                                                                                                                                                                                                                                                                                                                                                                                                                                                                                                                                                                                                                                                                                                                                                                                                                                                                                                                                                                                                                                                                                                                                                                            {\"Run\": \"1a_S1mod2_S1_\", \"Link\": \"https://doi.org/10.1038/s41590-022-01230-1\", \"Author\": \"Phad et al., 2022\", \"Species\": \"human\", \"Age\": \"no\", \"BSource\": \"PBMC\", \"BType\": \"Plasma-B-Cells\", \"Vaccine\": \"None\", \"Disease\": \"None\", \"Subject\": \"Donor-2\", \"Longitudinal\": \"May-Year-2020\", \"Unique sequences\": 2287, \"Isotype\": \"All\", \"Chain\": \"Paired\"}\n",
      "sequence_id_heavy           sequence_heavy                                     locus_heavy stop_codon_heavy vj_in_frame_heavy v_frameshift_heavy productive_heavy rev_comp_heavy complete_vdj_heavy v_call_heavy  d_call_heavy j_call_heavy sequence_alignment_heavy                           germline_alignment_heavy                           sequence_alignment_aa_heavy                        germline_alignment_aa_heavy                        v_alignment_start_heavy v_alignment_end_heavy d_alignment_start_heavy d_alignment_end_heavy j_alignment_start_heavy j_alignment_end_heavy v_sequence_alignment_heavy                         v_sequence_alignment_aa_heavy                      v_germline_alignment_heavy                         v_germline_alignment_aa_heavy                      d_sequence_alignment_heavy d_sequence_alignment_aa_heavy d_germline_alignment_heavy d_germline_alignment_aa_heavy j_sequence_alignment_heavy                         j_sequence_alignment_aa_heavy j_germline_alignment_heavy                         j_germline_alignment_aa_heavy fwr1_heavy                                         fwr1_aa_heavy             cdr1_heavy                     cdr1_aa_heavy fwr2_heavy                                         fwr2_aa_heavy     cdr2_heavy               cdr2_aa_heavy fwr3_heavy                                         fwr3_aa_heavy                          fwr4_heavy                        fwr4_aa_heavy cdr3_heavy                                         cdr3_aa_heavy          junction_heavy                                     junction_length_heavy junction_aa_heavy        junction_aa_length_heavy v_score_heavy d_score_heavy j_score_heavy v_cigar_heavy  d_cigar_heavy    j_cigar_heavy  v_support_heavy         d_support_heavy j_support_heavy v_identity_heavy d_identity_heavy j_identity_heavy v_sequence_start_heavy v_sequence_end_heavy v_germline_start_heavy v_germline_end_heavy d_sequence_start_heavy d_sequence_end_heavy d_germline_start_heavy d_germline_end_heavy j_sequence_start_heavy j_sequence_end_heavy j_germline_start_heavy j_germline_end_heavy fwr1_start_heavy fwr1_end_heavy cdr1_start_heavy cdr1_end_heavy fwr2_start_heavy fwr2_end_heavy cdr2_start_heavy cdr2_end_heavy fwr3_start_heavy fwr3_end_heavy fwr4_start_heavy fwr4_end_heavy cdr3_start_heavy cdr3_end_heavy np1_heavy             np1_length_heavy np2_heavy  np2_length_heavy c_region_heavy                                     Isotype_heavy Redundancy_heavy ANARCI_numbering_heavy                             ANARCI_status_heavy    sequence_id_light           sequence_light                                     locus_light stop_codon_light vj_in_frame_light v_frameshift_light productive_light rev_comp_light complete_vdj_light v_call_light d_call_light j_call_light sequence_alignment_light                           germline_alignment_light                           sequence_alignment_aa_light                        germline_alignment_aa_light                        v_alignment_start_light v_alignment_end_light d_alignment_start_light d_alignment_end_light j_alignment_start_light j_alignment_end_light v_sequence_alignment_light                         v_sequence_alignment_aa_light                      v_germline_alignment_light                         v_germline_alignment_aa_light                      d_sequence_alignment_light d_sequence_alignment_aa_light d_germline_alignment_light d_germline_alignment_aa_light j_sequence_alignment_light            j_sequence_alignment_aa_light j_germline_alignment_light            j_germline_alignment_aa_light fwr1_light                                         fwr1_aa_light              cdr1_light                        cdr1_aa_light fwr2_light                                         fwr2_aa_light     cdr2_light cdr2_aa_light fwr3_light                                         fwr3_aa_light                        fwr4_light                     fwr4_aa_light cdr3_light                  cdr3_aa_light junction_light                    junction_length_light junction_aa_light junction_aa_length_light v_score_light d_score_light j_score_light v_cigar_light  d_cigar_light j_cigar_light   v_support_light         d_support_light j_support_light v_identity_light d_identity_light j_identity_light v_sequence_start_light v_sequence_end_light v_germline_start_light v_germline_end_light d_sequence_start_light d_sequence_end_light d_germline_start_light d_germline_end_light j_sequence_start_light j_sequence_end_light j_germline_start_light j_germline_end_light fwr1_start_light fwr1_end_light cdr1_start_light cdr1_end_light fwr2_start_light fwr2_end_light cdr2_start_light cdr2_end_light fwr3_start_light fwr3_end_light fwr4_start_light fwr4_end_light cdr3_start_light cdr3_end_light np1_light np1_length_light np2_light np2_length_light c_region_light                                     Isotype_light Redundancy_light ANARCI_numbering_light                                                            ANARCI_status_light                                                                                                                                                                                                                                                                                                      \n",
      "AAACCTGAGTCCATAC-1_contig_1 AGATCACCGTTTCTTATATGGGGAGTGACTCCTGTGCCCCACCATGG... H           F                T                 F                  T                F              T                  IGHV2-5*01    IGHD2-2*01   IGHJ4*02     CAGATCACCTTGAAGGAGTCTGGTCCTACGCTGGTGAAACCCACACA... CAGATCACCTTGAAGGAGTCTGGTCCTACGCTGGTGAAACCCACACA... QITLKESGPTLVKPTQTLTLTCTFSGFSLSTRGVGVGWIRQPPGKAL... QITLKESGPTLVKPTQTLTLTCTFSGFSLSTSGVGVGWIRQPPGKAL... 1                       295                   317.0                   322.0                 323.0                   370.0                 CAGATCACCTTGAAGGAGTCTGGTCCTACGCTGGTGAAACCCACACA... QITLKESGPTLVKPTQTLTLTCTFSGFSLSTRGVGVGWIRQPPGKAL... CAGATCACCTTGAAGGAGTCTGGTCCTACGCTGGTGAAACCCACACA... QITLKESGPTLVKPTQTLTLTCTFSGFSLSTSGVGVGWIRQPPGKAL... ACCAGC                     Q                             ACCAGC                     Q                             ACTACTTTGACTACTGGGGCCAGGGAACCCTGGTCACCGTCTCCTCAG   YFDYWGQGTLVTVSS               ACTACTTTGACTACTGGGGCCAGGGAACCCTGGTCACCGTCTCCTCAG   YFDYWGQGTLVTVSS               CAGATCACCTTGAAGGAGTCTGGTCCTACGCTGGTGAAACCCACACA... QITLKESGPTLVKPTQTLTLTCTFS GGGTTCTCACTCAGCACTCGTGGAGTGGGT GFSLSTRGVG    GTGGGCTGGATCCGTCAGCCCCCAGGAAAGGCCCTGGAGTGGCTTGG... VGWIRQPPGKALEWLGI ATTTATTACAATGGTGATAAA    IYYNGDK       CGCTACAGCCCATCTCTGAAGAGCAGGCTCACCATCACCAGGGACAC... RYSPSLKSRLTITRDTSKNQVVLTMTNMDPGDTATYYC TGGGGCCAGGGAACCCTGGTCACCGTCTCCTCA WGQGTLVTVSS   GCACGCGAGCCCTATACTGACCACGACCAGCACTACTTTGACTAC      AREPYTDHDQHYFDY        TGTGCACGCGAGCCCTATACTGACCACGACCAGCACTACTTTGACTA... 51.0                  CAREPYTDHDQHYFDYW        17.0                     427.201       12.223        92.976        100S295M235S6N 416S16N6M208S9N  422S48M160S    1.8450000000000002e-121 59.12           6.309e-23       96.271           100.0            100.0            101                    395                  1                      295                  417.0                  422.0                17.0                   22.0                 423.0                  470.0                1.0                    48.0                 101              175            176              205            206              256            257              277            278              391            437.0            469.0          392.0            436.0          GCGAGCCCTATACTGACCACG 21.0             NaN        0.0              CATCCCCGACCAGCCCCAAGGTCTTCCCGCTGAGCCTCGACAGCACC... IGHA          1                {'fwh1': {'1 ': 'Q', '2 ': 'I', '3 ': 'T', '4 '... |Deletions: 10, 73|||| AAACCTGAGTCCATAC-1_contig_2 AGGAGTCAGACCCAGTCAGGACACAGCATGGACATGAGGGTCCCCGC... K           F                T                 F                  T                F              T                  IGKV1-12*01  NaN          IGKJ4*01     GACATCCAGATGACCCAGTCTCCATCTTCCGTGTCAGCATCTGTAGG... GACATCCAGATGACCCAGTCTCCATCTTCCGTGTCTGCATCTGTAGG... DIQMTQSPSSVSASVGDRVSITCRASQGISSWLAWYQQKPGKVPKLL... DIQMTQSPSSVSASVGDRVTITCRASQGISSWLAWYQQKPGKAPKLL... 1                       284                   NaN                     NaN                   289.0                   322.0                 GACATCCAGATGACCCAGTCTCCATCTTCCGTGTCAGCATCTGTAGG... DIQMTQSPSSVSASVGDRVSITCRASQGISSWLAWYQQKPGKVPKLL... GACATCCAGATGACCCAGTCTCCATCTTCCGTGTCTGCATCTGTAGG... DIQMTQSPSSVSASVGDRVTITCRASQGISSWLAWYQQKPGKAPKLL... NaN                        NaN                           NaN                        NaN                           ACTTTCGGCGGAGGGACCAAGGTGGAGATCAAAC    TFGGGTKVEIK                   ACTTTCGGCGGAGGGACCAAGGTGGAGATCAAAC    TFGGGTKVEIK                   GACATCCAGATGACCCAGTCTCCATCTTCCGTGTCAGCATCTGTAGG... DIQMTQSPSSVSASVGDRVSITCRAS CAGGGTATTAGCAGCTGG                QGISSW        TTGGCCTGGTATCAGCAAAAACCAGGGAAAGTCCCTAAGCTCCTGAT... LAWYQQKPGKVPKLLIY GCTGCATCC  AAS           AGTTTGCAAAATGGGGTCCCATCAAGGTTCAGTGGCAGTGGATCCGG... SLQNGVPSRFSGSGSGTDFTLTISSLQPEDFATYYC TTCGGCGGAGGGACCAAGGTGGAGATCAAA FGGGTKVEIK    CAACAGGAGAACAGTTTCCCGTTGACT QQENSFPLT     TGTCAACAGGAGAACAGTTTCCCGTTGACTTTC 33.0                  CQQENSFPLTF       11.0                     410.061       NaN           66.059        93S284M174S3N  NaN           381S4N34M136S   2.3270000000000002e-116 NaN             6.977e-15       96.127           NaN              100.0            94                     377                  1                      284                  NaN                    NaN                  NaN                    NaN                  382.0                  415.0                5.0                    38.0                 94               171            172              189            190              240            241              249            250              357            385.0            414.0          358.0            384.0          GTTG      4.0              NaN       NaN              GAACTGTGGCTGCACCATCTGTCTTCATCTTCCCGCCATCTGATGAG... Bulk          1                {'fwk1': {'1 ': 'D', '2 ': 'I', '3 ': 'Q', '4 '...                                              |||||                                                                                                                                                                                                                                                                                                      \n",
      "AAACCTGCACCACCAG-1_contig_2 GGGAGCATCACCCAGCAGCCACATCTGTCCTCTAGAGAATCCCCTGA... H           F                T                 F                  T                F              T                  IGHV1-2*06    IGHD3-10*02  IGHJ6*02     CAGGTGCAGCTGGTGCAGTCGGGGGCTGAGTTGAAGAAGCCTGGGGC... CAGGTGCAGCTGGTGCAGTCTGGGGCTGAGGTGAAGAAGCCTGGGGC... QVQLVQSGAELKKPGASVKVSCKSSGYTFTGYYIHWVRQAPGQGLEW... QVQLVQSGAEVKKPGASVKVSCKASGYTFTGYYMHWVRQAPGQGLEW... 1                       295                   299.0                   314.0                 319.0                   360.0                 CAGGTGCAGCTGGTGCAGTCGGGGGCTGAGTTGAAGAAGCCTGGGGC... QVQLVQSGAELKKPGASVKVSCKSSGYTFTGYYIHWVRQAPGQGLEW... CAGGTGCAGCTGGTGCAGTCTGGGGCTGAGGTGAAGAAGCCTGGGGC... QVQLVQSGAEVKKPGASVKVSCKASGYTFTGYYMHWVRQAPGQGLEW... ATTTCTATGAGCGGGG           FYERG                         ATTACTATGTTCGGGG           YYVRG                         ATGGACGTCTGGGGCCAAGGGACCACACTCACCGTCTCCTCA         MDVWGQGTTLTVSS                ATGGACGTCTGGGGCCAAGGGACCACGGTCACCGTCTCCTCA         MDVWGQGTTVTVSS                CAGGTGCAGCTGGTGCAGTCGGGGGCTGAGTTGAAGAAGCCTGGGGC... QVQLVQSGAELKKPGASVKVSCKSS GGATACACCTTCACCGGCTATTAC       GYTFTGYY      ATACATTGGGTGCGACAGGCACCTGGACAAGGGCTTGAATGGATGGG... IHWVRQAPGQGLEWMGR ATCAACCCTAATAGTGGTGGCACA INPNSGGT      ACGTTTGCACAGAGATTTCAGGATAGGATCACCATGACCCGGGACAC... TFAQRFQDRITMTRDTSINTAYMELSRLKSDDTAFYFC TGGGGCCAAGGGACCACACTCACCGTCTCCTCA WGQGTTLTVSS   GCGAGAGGCGATTTCTATGAGCGGGGTGGAATGGACGTC            ARGDFYERGGMDV          TGTGCGAGAGGCGATTTCTATGAGCGGGGTGGAATGGACGTCTGG      45.0                  CARGDFYERGGMDVW          15.0                     380.457       14.146        69.904        121S295M248S1N 419S2N16M229S12N 439S20N42M183S 2.297e-107              16.45           5.87e-16        91.186           81.25            95.238           122                    416                  1                      295                  420.0                  435.0                3.0                    18.0                 440.0                  481.0                21.0                   62.0                 122              196            197              220            221              271            272              295            296              409            449.0            481.0          410.0            448.0          GCG                   3.0              TGGA       4.0              GCTTCCACCAAGGGCCCATCCGTCTTCCCCCTGGCGCCCTGCTCCAG... IGHG          1                {'fwh1': {'1 ': 'Q', '2 ': 'V', '3 ': 'Q', '4 '... |Deletions: 10, 73|||| AAACCTGCACCACCAG-1_contig_1 GACTGATCAGGACTCCTCAGTTCACCTTCTCACAATGAGGCTCCCTG... K           F                T                 F                  T                F              T                  IGKV2-28*01  NaN          IGKJ4*01     GATATTGTGATGACTCAGTCTCCAGTCTCCCTGCCCGTCACCCCTGG... GATATTGTGATGACTCAGTCTCCACTCTCCCTGCCCGTCACCCCTGG... DIVMTQSPVSLPVTPGEAASISCRSSQSLLHSNGHNYLEWYLQKPGQ... DIVMTQSPLSLPVTPGEPASISCRSSQSLLHSNGYNYLDWYLQKPGQ... 1                       298                   NaN                     NaN                   302.0                   337.0                 GATATTGTGATGACTCAGTCTCCAGTCTCCCTGCCCGTCACCCCTGG... DIVMTQSPVSLPVTPGEAASISCRSSQSLLHSNGHNYLEWYLQKPGQ... GATATTGTGATGACTCAGTCTCCACTCTCCCTGCCCGTCACCCCTGG... DIVMTQSPLSLPVTPGEPASISCRSSQSLLHSNGYNYLDWYLQKPGQ... NaN                        NaN                           NaN                        NaN                           TCACTTTCGGCGGAGGGACCAAGGTGGAGATCAAAC  TFGGGTKVEIK                   TCACTTTCGGCGGAGGGACCAAGGTGGAGATCAAAC  TFGGGTKVEIK                   GATATTGTGATGACTCAGTCTCCAGTCTCCCTGCCCGTCACCCCTGG... DIVMTQSPVSLPVTPGEAASISCRSS CAGAGCCTCCTGCATAGTAATGGACACAACTAT QSLLHSNGHNY   TTGGAATGGTACCTGCAGAAGCCAGGCCAGTCTCCACAGCTCCTGAT... LEWYLQKPGQSPQLLIY TTGGGTTCT  LGS           AATCGGGCCTCCGGGGTCCCTGACAGGTTCAGTGGCAGTGGATCAGG... NRASGVPDRFSGSGSGTEFTLKISRVETEDVGVYYC TTCGGCGGAGGGACCAAGGTGGAGATCAAA FGGGTKVEIK    ATGCAAGCTCTACAATCTCGCTTCACT MQALQSRFT     TGCATGCAAGCTCTACAATCTCGCTTCACTTTC 33.0                  CMQALQSRFTF       11.0                     438.107       NaN           69.904        94S298M175S4N  NaN           395S2N36M136S   8.652999999999995e-125  NaN             4.998e-16       96.98            NaN              100.0            95                     392                  1                      298                  NaN                    NaN                  NaN                    NaN                  396.0                  431.0                3.0                    38.0                 95               172            173              205            206              256            257              265            266              373            401.0            430.0          374.0            400.0          GCT       3.0              NaN       NaN              GAACTGTGGCTGCACCATCTGTCTTCATCTTCCCGCCATCTGATGAG... Bulk          1                {'fwk1': {'1 ': 'D', '2 ': 'I', '3 ': 'V', '4 '...                                              |||||                                                                                                                                                                                                                                                                                                      \n",
      "AAACCTGCAGGGAGAG-1_contig_1 CGAGCCCAGCACTGGAAGTCGCCGGTGTTTCCATTCGGTGATCATCA... H           F                T                 F                  T                F              T                  IGHV3-30-3*01 IGHD2-2*01   IGHJ6*02     CAGGTGCAACTGGTGGAGTCTGGGGGAGGCGTGGTCCAGCCTAGGAG... CAGGTGCAGCTGGTGGAGTCTGGGGGAGGCGTGGTCCAGCCTGGGAG... QVQLVESGGGVVQPRRSLRLSCAASGFTFSNYAMHWVRQAPGKGLKW... QVQLVESGGGVVQPGRSLRLSCAASGFTFSSYAMHWVRQAPGKGLEW... 1                       295                   299.0                   318.0                 329.0                   387.0                 CAGGTGCAACTGGTGGAGTCTGGGGGAGGCGTGGTCCAGCCTAGGAG... QVQLVESGGGVVQPRRSLRLSCAASGFTFSNYAMHWVRQAPGKGLKW... CAGGTGCAGCTGGTGGAGTCTGGGGGAGGCGTGGTCCAGCCTGGGAG... QVQLVESGGGVVQPGRSLRLSCAASGFTFSSYAMHWVRQAPGKGLEW... ATTGTAGTGGTTCCAACTGC       CSGSNC                        ATTGTAGTAGTACCAGCTGC       CSSTSC                        ACTTCTCCTTCTACGGTATGGACGTCTGGGGCCAAGGGACCACGGTC... FSFYGMDVWGQGTTVTVSS           ACTACTACTACTACGGTATGGACGTCTGGGGCCAAGGGACCACGGTC... YYYYGMDVWGQGTTVTVSS           CAGGTGCAACTGGTGGAGTCTGGGGGAGGCGTGGTCCAGCCTAGGAG... QVQLVESGGGVVQPRRSLRLSCAAS GGATTCACCTTCAGTAACTATGCT       GFTFSNYA      ATGCACTGGGTCCGCCAGGCTCCAGGCAAGGGCCTGAAGTGGGTGGC... MHWVRQAPGKGLKWVAI ATTTCATCTGATGGAAGCAATAAA ISSDGSNK      TTCTACGCAGACTCCGTGAAGGGCCGAGTCACCATCTCCAGAGACAA... FYADSVKGRVTISRDNSKNTVDLQMNDLRLEDTAVYYC TGGGGCCAAGGGACCACGGTCACCGTCTCCTCA WGQGTTVTVSS   GCGAGAGTTGATTGTAGTGGTTCCAACTGCCACTCCTCTCACTTCTC... ARVDCSGSNCHSSHFSFYGMDV TGTGCGAGAGTTGATTGTAGTGGTTCCAACTGCCACTCCTCTCACTT... 72.0                  CARVDCSGSNCHSSHFSFYGMDVW 24.0                     408.503       21.837        96.822        124S295M253S1N 422S5N20M230S6N  452S3N59M161S  8.392e-116              0.08058         4.687e-24       94.237           85.0             94.915           125                    419                  1                      295                  423.0                  442.0                6.0                    25.0                 453.0                  511.0                4.0                    62.0                 125              199            200              223            224              274            275              298            299              412            479.0            511.0          413.0            478.0          TTG                   3.0              CACTCCTCTC 10.0             GCATCCCCGACCAGCCCCAAGGTCTTCCCGCTGAGCCTCTGCAGCAC... IGHA          1                {'fwh1': {'1 ': 'Q', '2 ': 'V', '3 ': 'Q', '4 '... |Deletions: 10, 73|||| AAACCTGCAGGGAGAG-1_contig_2 CTGGGCCTCAGGAAGCAGCATCGGAGGTGCCTCAGCCATGGCATGGA... L           F                T                 F                  T                F              T                  IGLV3-1*01   NaN          IGLJ2*01     TCCTATGAACTGACTCAGCCACCCTCAGTGTCCGTGTCCCCAGGACA... TCCTATGAGCTGACTCAGCCACCCTCAGTGTCCGTGTCCCCAGGACA... SYELTQPPSVSVSPGQTASITCSGDELGDKYIYWYQQKPGQSPVVVI... SYELTQPPSVSVSPGQTASITCSGDKLGDKYACWYQQKPGQSPVLVI... 1                       283                   NaN                     NaN                   284.0                   318.0                 TCCTATGAACTGACTCAGCCACCCTCAGTGTCCGTGTCCCCAGGACA... SYELTQPPSVSVSPGQTASITCSGDELGDKYIYWYQQKPGQSPVVVI... TCCTATGAGCTGACTCAGCCACCCTCAGTGTCCGTGTCCCCAGGACA... SYELTQPPSVSVSPGQTASITCSGDKLGDKYACWYQQKPGQSPVLVI... NaN                        NaN                           NaN                        NaN                           TGGTTTTCGGCGGAGGGACCAAACTGACCGTCCTA   VFGGGTKLTVL                   TGGTATTCGGCGGAGGGACCAAGCTGACCGTCCTA   VFGGGTKLTVL                   TCCTATGAACTGACTCAGCCACCCTCAGTGTCCGTGTCCCCAGGACA... SYELTQPPSVSVSPGQTASITCSGD  GAGTTGGGGGATAAATAT                ELGDKY        ATTTATTGGTATCAGCAGAAGCCAGGCCAGTCCCCTGTGGTGGTCAT... IYWYQQKPGQSPVVVIQ CAAGATAAC  QDN           AGGCGGCCCTCAGGGATCCCTGGGCGATTCTCTGGCTCCAACTCTGG... RRPSGIPGRFSGSNSGNTATLTISGTQLMDEADYYC TTCGGCGGAGGGACCAAACTGACCGTCCTA FGGGTKLTVL    CAGGCGTGGGACAGCAGCACTGTGGTT QAWDSSTVV     TGTCAGGCGTGGGACAGCAGCACTGTGGTTTTC 33.0                  CQAWDSSTVVF       11.0                     396.038       NaN           56.445        94S283M247S2N  NaN           377S2N35M212S1N 4.39e-112               NaN             6.204e-12       94.7             NaN              94.286           95                     377                  1                      283                  NaN                    NaN                  NaN                    NaN                  378.0                  412.0                3.0                    37.0                 95               169            170              187            188              238            239              247            248              355            383.0            412.0          356.0            382.0          NaN       0.0              NaN       NaN              CGTCAGCCCAAGGCTGCCCCCTCGGTCACTCTGTTCCCGCCCTCCTC... Bulk          1                {'fwl1': {'1 ': 'S', '2 ': 'Y', '3 ': 'E', '4 '...                                              |||||                                                                                                                                                                                                                                                                                                      \n",
      "AAACCTGGTAAATACG-1_contig_1 AGGTCTCAGAGAGGAGCCTTAGCCCTGGACTCCAAGGCCTTTCCACT... H           F                T                 F                  T                F              F                  IGHV3-7*01    IGHD4-17*01  IGHJ4*02     GAGGTGCAGCTGGTGGAGTCTGGGGGAGACTTGGTCCAACTTGGGGG... GAGGTGCAGCTGGTGGAGTCTGGGGGAGGCTTGGTCCAGCCTGGGGG... EVQLVESGGDLVQLGGSLRLSCAASGLTFSIHWMSWLRQAPGKGLEW... EVQLVESGGGLVQPGGSLRLSCAASGFTFSSYWMSWVRQAPGKGLEW... 1                       293                   306.0                   312.0                 316.0                   359.0                 GAGGTGCAGCTGGTGGAGTCTGGGGGAGACTTGGTCCAACTTGGGGG... EVQLVESGGDLVQLGGSLRLSCAASGLTFSIHWMSWLRQAPGKGLEW... GAGGTGCAGCTGGTGGAGTCTGGGGGAGGCTTGGTCCAGCCTGGGGG... EVQLVESGGGLVQPGGSLRLSCAASGFTFSSYWMSWVRQAPGKGLEW... TGACTAC                    DY                            TGACTAC                    DY                            TACTTTGACCTCTGGGGCCAGGGAACCCTGGTCACCGTCTCCTC       YFDLWGQGTLVTVSS               TACTTTGACTACTGGGGCCAGGGAACCCTGGTCACCGTCTCCTC       YFDYWGQGTLVTVSS               GAGGTGCAGCTGGTGGAGTCTGGGGGAGACTTGGTCCAACTTGGGGG... EVQLVESGGDLVQLGGSLRLSCAAS GGACTCACCTTTAGCATTCATTGG       GLTFSIHW      ATGAGTTGGCTCCGCCAGGCTCCTGGGAAGGGCCTGGAGTGGGTGGC... MSWLRQAPGKGLEWVAN ATAAAAGGAGATGGAAGTGAGAAA IKGDGSEK      TTCTATGTGGACTCTGTGAAGGGCCGATTCACCGCCTCCAGAGACAA... FYVDSVKGRFTASRDNAKRSLYLQMDSLRVEDTAVYYC TGGGGCCAGGGAACCCTGGTCACCGTCTCCTC  WGQGTLVTVSS   GCGAGGCTCAACTTTCCTGACTACCGGTACTTTGACCTC            ARLNFPDYRYFDL          TGTGCGAGGCTCAACTTTCCTGACTACCGGTACTTTGACCTCTGG      45.0                  CARLNFPDYRYFDLW          15.0                     386.69        14.146        73.749        136S293M139S3N 441S7M120S9N     451S2N44M73S2N 2.607e-109              14.03           3.483e-17       92.15            100.0            95.455           137                    429                  1                      293                  442.0                  448.0                1.0                    7.0                  452.0                  495.0                3.0                    46.0                 137              211            212              235            236              286            287              310            311              424            464.0            495.0          425.0            463.0          GCTCAACTTTCC          12.0             CGG        3.0              TGGGAGTGCATCCGCCCCAACCCTTTTCCCCCTCGTCTCCTGTGAGA... IGHM          1                {'fwh1': {'1 ': 'E', '2 ': 'V', '3 ': 'Q', '4 '... |Deletions: 10, 73|||| AAACCTGGTAAATACG-1_contig_2 ACGCCGTTTCTTTTTTCTTATATGGGGGACTGATCAGGACTCCTCAG... K           F                T                 F                  T                F              T                  IGKV2-30*02  NaN          IGKJ1*01     GATATTGTGATGACTCAGTCTCCACTCTACCTGCCCGTCACCCTTGG... GATGTTGTGATGACTCAGTCTCCACTCTCCCTGCCCGTCACCCTTGG... DIVMTQSPLYLPVTLGQPASISCRSSQSLLHSDGNTYLSWFQQRPGH... DVVMTQSPLSLPVTLGQPASISCRSSQSLVHSDGNTYLNWFQQRPGQ... 1                       297                   NaN                     NaN                   298.0                   334.0                 GATATTGTGATGACTCAGTCTCCACTCTACCTGCCCGTCACCCTTGG... DIVMTQSPLYLPVTLGQPASISCRSSQSLLHSDGNTYLSWFQQRPGH... GATGTTGTGATGACTCAGTCTCCACTCTCCCTGCCCGTCACCCTTGG... DVVMTQSPLSLPVTLGQPASISCRSSQSLVHSDGNTYLNWFQQRPGQ... NaN                        NaN                           NaN                        NaN                           TGGACGTTCGGCCAAGGGACCAAGGTGGAAATCAAAC WTFGQGTKVEIK                  TGGACGTTCGGCCAAGGGACCAAGGTGGAAATCAAAC WTFGQGTKVEIK                  GATATTGTGATGACTCAGTCTCCACTCTACCTGCCCGTCACCCTTGG... DIVMTQSPLYLPVTLGQPASISCRSS CAAAGCCTCCTACACAGTGATGGAAACACCTAC QSLLHSDGNTY   TTGAGTTGGTTTCAGCAGAGGCCAGGCCATTCTCCAAGGCCCCTAAT... LSWFQQRPGHSPRPLIY AAGGTTTCT  KVS           AACCGGGACTCTGGGGTCCCAGACAGATTCAGCGGCAGTGGGTCAGG... NRDSGVPDRFSGSGSGTDFTLTISRVEAEDVGVYYC TTCGGCCAAGGGACCAAGGTGGAAATCAAA FGQGTKVEIK    ATGCAAGGTACACTCTGGTGGACG    MQGTLWWT      TGCATGCAAGGTACACTCTGGTGGACGTTC    30.0                  CMQGTLWWTF        10.0                     439.666       NaN           71.827        121S297M173S5N NaN           418S1N37M136S   3.0519999999999995e-125 NaN             1.375e-16       97.306           NaN              100.0            122                    418                  1                      297                  NaN                    NaN                  NaN                    NaN                  419.0                  455.0                2.0                    38.0                 122              199            200              232            233              283            284              292            293              400            425.0            454.0          401.0            424.0          NaN       0.0              NaN       NaN              GAACTGTGGCTGCACCATCTGTCTTCATCTTCCCGCCATCTGATGAG... Bulk          1                {'fwk1': {'1 ': 'D', '2 ': 'I', '3 ': 'V', '4 '...                                              |||||                                                                                                                                                                                                                                                                                                      \n",
      "\n",
      "=== Info ===\n",
      "<class 'pandas.core.frame.DataFrame'>\n",
      "MultiIndex: 2288 entries, ('sequence_id_heavy', 'sequence_heavy', 'locus_heavy', 'stop_codon_heavy', 'vj_in_frame_heavy', 'v_frameshift_heavy', 'productive_heavy', 'rev_comp_heavy', 'complete_vdj_heavy', 'v_call_heavy', 'd_call_heavy', 'j_call_heavy', 'sequence_alignment_heavy', 'germline_alignment_heavy', 'sequence_alignment_aa_heavy', 'germline_alignment_aa_heavy', 'v_alignment_start_heavy', 'v_alignment_end_heavy', 'd_alignment_start_heavy', 'd_alignment_end_heavy', 'j_alignment_start_heavy', 'j_alignment_end_heavy', 'v_sequence_alignment_heavy', 'v_sequence_alignment_aa_heavy', 'v_germline_alignment_heavy', 'v_germline_alignment_aa_heavy', 'd_sequence_alignment_heavy', 'd_sequence_alignment_aa_heavy', 'd_germline_alignment_heavy', 'd_germline_alignment_aa_heavy', 'j_sequence_alignment_heavy', 'j_sequence_alignment_aa_heavy', 'j_germline_alignment_heavy', 'j_germline_alignment_aa_heavy', 'fwr1_heavy', 'fwr1_aa_heavy', 'cdr1_heavy', 'cdr1_aa_heavy', 'fwr2_heavy', 'fwr2_aa_heavy', 'cdr2_heavy', 'cdr2_aa_heavy', 'fwr3_heavy', 'fwr3_aa_heavy', 'fwr4_heavy', 'fwr4_aa_heavy', 'cdr3_heavy', 'cdr3_aa_heavy', 'junction_heavy', 'junction_length_heavy', 'junction_aa_heavy', 'junction_aa_length_heavy', 'v_score_heavy', 'd_score_heavy', 'j_score_heavy', 'v_cigar_heavy', 'd_cigar_heavy', 'j_cigar_heavy', 'v_support_heavy', 'd_support_heavy', 'j_support_heavy', 'v_identity_heavy', 'd_identity_heavy', 'j_identity_heavy', 'v_sequence_start_heavy', 'v_sequence_end_heavy', 'v_germline_start_heavy', 'v_germline_end_heavy', 'd_sequence_start_heavy', 'd_sequence_end_heavy', 'd_germline_start_heavy', 'd_germline_end_heavy', 'j_sequence_start_heavy', 'j_sequence_end_heavy', 'j_germline_start_heavy', 'j_germline_end_heavy', 'fwr1_start_heavy', 'fwr1_end_heavy', 'cdr1_start_heavy', 'cdr1_end_heavy', 'fwr2_start_heavy', 'fwr2_end_heavy', 'cdr2_start_heavy', 'cdr2_end_heavy', 'fwr3_start_heavy', 'fwr3_end_heavy', 'fwr4_start_heavy', 'fwr4_end_heavy', 'cdr3_start_heavy', 'cdr3_end_heavy', 'np1_heavy', 'np1_length_heavy', 'np2_heavy', 'np2_length_heavy', 'c_region_heavy', 'Isotype_heavy', 'Redundancy_heavy', 'ANARCI_numbering_heavy', 'ANARCI_status_heavy', 'sequence_id_light', 'sequence_light', 'locus_light', 'stop_codon_light', 'vj_in_frame_light', 'v_frameshift_light', 'productive_light', 'rev_comp_light', 'complete_vdj_light', 'v_call_light', 'd_call_light', 'j_call_light', 'sequence_alignment_light', 'germline_alignment_light', 'sequence_alignment_aa_light', 'germline_alignment_aa_light', 'v_alignment_start_light', 'v_alignment_end_light', 'd_alignment_start_light', 'd_alignment_end_light', 'j_alignment_start_light', 'j_alignment_end_light', 'v_sequence_alignment_light', 'v_sequence_alignment_aa_light', 'v_germline_alignment_light', 'v_germline_alignment_aa_light', 'd_sequence_alignment_light', 'd_sequence_alignment_aa_light', 'd_germline_alignment_light', 'd_germline_alignment_aa_light', 'j_sequence_alignment_light', 'j_sequence_alignment_aa_light', 'j_germline_alignment_light', 'j_germline_alignment_aa_light', 'fwr1_light', 'fwr1_aa_light', 'cdr1_light', 'cdr1_aa_light', 'fwr2_light', 'fwr2_aa_light', 'cdr2_light', 'cdr2_aa_light', 'fwr3_light', 'fwr3_aa_light', 'fwr4_light', 'fwr4_aa_light', 'cdr3_light', 'cdr3_aa_light', 'junction_light', 'junction_length_light', 'junction_aa_light', 'junction_aa_length_light', 'v_score_light', 'd_score_light', 'j_score_light', 'v_cigar_light', 'd_cigar_light', 'j_cigar_light', 'v_support_light', 'd_support_light', 'j_support_light', 'v_identity_light', 'd_identity_light', 'j_identity_light', 'v_sequence_start_light', 'v_sequence_end_light', 'v_germline_start_light', 'v_germline_end_light', 'd_sequence_start_light', 'd_sequence_end_light', 'd_germline_start_light', 'd_germline_end_light', 'j_sequence_start_light', 'j_sequence_end_light', 'j_germline_start_light', 'j_germline_end_light', 'fwr1_start_light', 'fwr1_end_light', 'cdr1_start_light', 'cdr1_end_light', 'fwr2_start_light', 'fwr2_end_light', 'cdr2_start_light', 'cdr2_end_light', 'fwr3_start_light', 'fwr3_end_light', 'fwr4_start_light', 'fwr4_end_light', 'cdr3_start_light', 'cdr3_end_light', 'np1_light', 'np1_length_light', 'np2_light', 'np2_length_light', 'c_region_light', 'Isotype_light', 'Redundancy_light', 'ANARCI_numbering_light') to ('TTTGTCATCCTTTACA-1_contig_1', 'GAGAGCATCACCCAGCAACCACATCTGTCCTCTAGAGAATCCCCTGAGAGCTCCGTTCCTCACCATGGACTGGACCTGGAGGATCCTCTTCTTGGTGGCAGCAGCCACAGGAGCCCACTCCCAGGTGCAGCTGGTGCAGTCTGGGGCTGAGGTGAAGAAGCCTGGGGCCTCAGTGAAGGTCTCCTGCAAGGCTTCTGGATACACCTTCACCGGCTACTATATGCACTGGGTGCGACAGGCCCCTGGACAAGGGCTTGAGTGGATGGGATGGATCAACCCTAACAGTGGTGGCACAAACTATGCACAGAAGTTTCAGGGCAGGGTCACCATGACCAGGGACACGTCCATCAGCACAGCCTACATGGAGCTGAGCAGGCTGAGATCTGACGACACGGCCGTGTATTACTGTGCGAGGGCGGCTCAATCTTTGGAGTGGTTATTATACTACTACTACTACGGTATGGACGTCTGGGGCCAAGGGACCACGGTCACCGTCTCCTCAG', 'H', 'F', 'T', 'F', 'T', 'F', 'T', 'IGHV1-2*02', 'IGHD3-3*01', 'IGHJ6*02', 'CAGGTGCAGCTGGTGCAGTCTGGGGCTGAGGTGAAGAAGCCTGGGGCCTCAGTGAAGGTCTCCTGCAAGGCTTCTGGATACACCTTCACCGGCTACTATATGCACTGGGTGCGACAGGCCCCTGGACAAGGGCTTGAGTGGATGGGATGGATCAACCCTAACAGTGGTGGCACAAACTATGCACAGAAGTTTCAGGGCAGGGTCACCATGACCAGGGACACGTCCATCAGCACAGCCTACATGGAGCTGAGCAGGCTGAGATCTGACGACACGGCCGTGTATTACTGTGCGAGGGCGGCTCAATCTTTGGAGTGGTTATTATACTACTACTACTACGGTATGGACGTCTGGGGCCAAGGGACCACGGTCACCGTCTCCTCA', 'CAGGTGCAGCTGGTGCAGTCTGGGGCTGAGGTGAAGAAGCCTGGGGCCTCAGTGAAGGTCTCCTGCAAGGCTTCTGGATACACCTTCACCGGCTACTATATGCACTGGGTGCGACAGGCCCCTGGACAAGGGCTTGAGTGGATGGGATGGATCAACCCTAACAGTGGTGGCACAAACTATGCACAGAAGTTTCAGGGCAGGGTCACCATGACCAGGGACACGTCCATCAGCACAGCCTACATGGAGCTGAGCAGGCTGAGATCTGACGACACGGCCGTGTATTACTGTGCGAGNNNNNNNNNNNNTTTGGAGTGGTTATTATACTACTACTACTACGGTATGGACGTCTGGGGCCAAGGGACCACGGTCACCGTCTCCTCA', 'QVQLVQSGAEVKKPGASVKVSCKASGYTFTGYYMHWVRQAPGQGLEWMGWINPNSGGTNYAQKFQGRVTMTRDTSISTAYMELSRLRSDDTAVYYCARAAQSLEWLLYYYYYGMDVWGQGTTVTVSS', 'QVQLVQSGAEVKKPGASVKVSCKASGYTFTGYYMHWVRQAPGQGLEWMGWINPNSGGTNYAQKFQGRVTMTRDTSISTAYMELSRLRSDDTAVYYCAXXXXXLEWLLYYYYYGMDVWGQGTTVTVSS', '1', '293', '306.0', '321.0', '322.0', '381.0', 'CAGGTGCAGCTGGTGCAGTCTGGGGCTGAGGTGAAGAAGCCTGGGGCCTCAGTGAAGGTCTCCTGCAAGGCTTCTGGATACACCTTCACCGGCTACTATATGCACTGGGTGCGACAGGCCCCTGGACAAGGGCTTGAGTGGATGGGATGGATCAACCCTAACAGTGGTGGCACAAACTATGCACAGAAGTTTCAGGGCAGGGTCACCATGACCAGGGACACGTCCATCAGCACAGCCTACATGGAGCTGAGCAGGCTGAGATCTGACGACACGGCCGTGTATTACTGTGCGAG', 'QVQLVQSGAEVKKPGASVKVSCKASGYTFTGYYMHWVRQAPGQGLEWMGWINPNSGGTNYAQKFQGRVTMTRDTSISTAYMELSRLRSDDTAVYYCA', 'CAGGTGCAGCTGGTGCAGTCTGGGGCTGAGGTGAAGAAGCCTGGGGCCTCAGTGAAGGTCTCCTGCAAGGCTTCTGGATACACCTTCACCGGCTACTATATGCACTGGGTGCGACAGGCCCCTGGACAAGGGCTTGAGTGGATGGGATGGATCAACCCTAACAGTGGTGGCACAAACTATGCACAGAAGTTTCAGGGCAGGGTCACCATGACCAGGGACACGTCCATCAGCACAGCCTACATGGAGCTGAGCAGGCTGAGATCTGACGACACGGCCGTGTATTACTGTGCGAG', 'QVQLVQSGAEVKKPGASVKVSCKASGYTFTGYYMHWVRQAPGQGLEWMGWINPNSGGTNYAQKFQGRVTMTRDTSISTAYMELSRLRSDDTAVYYCA', 'TTTGGAGTGGTTATTA', 'LEWLL', 'TTTGGAGTGGTTATTA', 'LEWLL', 'TACTACTACTACTACGGTATGGACGTCTGGGGCCAAGGGACCACGGTCACCGTCTCCTCA', 'YYYYYGMDVWGQGTTVTVSS', 'TACTACTACTACTACGGTATGGACGTCTGGGGCCAAGGGACCACGGTCACCGTCTCCTCA', 'YYYYYGMDVWGQGTTVTVSS', 'CAGGTGCAGCTGGTGCAGTCTGGGGCTGAGGTGAAGAAGCCTGGGGCCTCAGTGAAGGTCTCCTGCAAGGCTTCT', 'QVQLVQSGAEVKKPGASVKVSCKAS', 'GGATACACCTTCACCGGCTACTAT', 'GYTFTGYY', 'ATGCACTGGGTGCGACAGGCCCCTGGACAAGGGCTTGAGTGGATGGGATGG', 'MHWVRQAPGQGLEWMGW', 'ATCAACCCTAACAGTGGTGGCACA', 'INPNSGGT', 'AACTATGCACAGAAGTTTCAGGGCAGGGTCACCATGACCAGGGACACGTCCATCAGCACAGCCTACATGGAGCTGAGCAGGCTGAGATCTGACGACACGGCCGTGTATTACTGT', 'NYAQKFQGRVTMTRDTSISTAYMELSRLRSDDTAVYYC', 'TGGGGCCAAGGGACCACGGTCACCGTCTCCTCA', 'WGQGTTVTVSS', 'GCGAGGGCGGCTCAATCTTTGGAGTGGTTATTATACTACTACTACTACGGTATGGACGTC', 'ARAAQSLEWLLYYYYYGMDV', 'TGTGCGAGGGCGGCTCAATCTTTGGAGTGGTTATTATACTACTACTACTACGGTATGGACGTCTGG', '66.0', 'CARAAQSLEWLLYYYYYGMDVW', '22.0', '458.363', '31.45', '116.049', '121S293M89S3N', '426S11N16M61S4N', '442S2N60M1S', '6.092e-131', '7.661e-05', '5.686e-30', '100.0', '100.0', '100.0', '122', '414', '1', '293', '427.0', '442.0', '12.0', '27.0', '443.0', '502.0', '3.0', '62.0', '122', '196', '197', '220', '221', '271', '272', '295', '296', '409', '470.0', '502.0', '410.0', '469.0', 'GGCGGCTCAATC', '12.0', nan, '0.0', 'G', 'Bulk', '1', \"{'fwh1': {'1 ': 'Q', '2 ': 'V', '3 ': 'Q', '4 ': 'L', '5 ': 'V', '6 ': 'Q', '7 ': 'S', '8 ': 'G', '9 ': 'A', '11 ': 'E', '12 ': 'V', '13 ': 'K', '14 ': 'K', '15 ': 'P', '16 ': 'G', '17 ': 'A', '18 ': 'S', '19 ': 'V', '20 ': 'K', '21 ': 'V', '22 ': 'S', '23 ': 'C', '24 ': 'K', '25 ': 'A', '26 ': 'S'}, 'cdrh1': {'27 ': 'G', '28 ': 'Y', '29 ': 'T', '30 ': 'F', '35 ': 'T', '36 ': 'G', '37 ': 'Y', '38 ': 'Y'}, 'fwh2': {'39 ': 'M', '40 ': 'H', '41 ': 'W', '42 ': 'V', '43 ': 'R', '44 ': 'Q', '45 ': 'A', '46 ': 'P', '47 ': 'G', '48 ': 'Q', '49 ': 'G', '50 ': 'L', '51 ': 'E', '52 ': 'W', '53 ': 'M', '54 ': 'G', '55 ': 'W'}, 'cdrh2': {'56 ': 'I', '57 ': 'N', '58 ': 'P', '59 ': 'N', '62 ': 'S', '63 ': 'G', '64 ': 'G', '65 ': 'T'}, 'fwh3': {'66 ': 'N', '67 ': 'Y', '68 ': 'A', '69 ': 'Q', '70 ': 'K', '71 ': 'F', '72 ': 'Q', '74 ': 'G', '75 ': 'R', '76 ': 'V', '77 ': 'T', '78 ': 'M', '79 ': 'T', '80 ': 'R', '81 ': 'D', '82 ': 'T', '83 ': 'S', '84 ': 'I', '85 ': 'S', '86 ': 'T', '87 ': 'A', '88 ': 'Y', '89 ': 'M', '90 ': 'E', '91 ': 'L', '92 ': 'S', '93 ': 'R', '94 ': 'L', '95 ': 'R', '96 ': 'S', '97 ': 'D', '98 ': 'D', '99 ': 'T', '100 ': 'A', '101 ': 'V', '102 ': 'Y', '103 ': 'Y', '104 ': 'C'}, 'cdrh3': {'105 ': 'A', '106 ': 'R', '107 ': 'A', '108 ': 'A', '109 ': 'Q', '110 ': 'S', '111 ': 'L', '111A': 'E', '111B': 'W', '111C': 'L', '112D': 'L', '112C': 'Y', '112B': 'Y', '112A': 'Y', '112 ': 'Y', '113 ': 'Y', '114 ': 'G', '115 ': 'M', '116 ': 'D', '117 ': 'V'}, 'fwh4': {'118 ': 'W', '119 ': 'G', '120 ': 'Q', '121 ': 'G', '122 ': 'T', '123 ': 'T', '124 ': 'V', '125 ': 'T', '126 ': 'V', '127 ': 'S', '128 ': 'S'}}\", '|Deletions: 10, 73||||', 'TTTGTCATCCTTTACA-1_contig_2', 'GGGGCTGGGGTCTCAGGAGGCAGCGCTCTCGGGACGTCTCCACCATGGCCTGGGCTCTGCTATTCCTCACCCTCCTCACTCAGGGCACAGGGTCCTGGGCCCAGTCTGCCCTGACTCAGCCTGCCTCCGTGTCTGGGTCTCCTGGACAGTCGATCACCATCTCCTGCACTGGAACCAGCAGTGACGTTGGTGGTTATAACTATGTCTCCTGGTACCAACAACACCCAGGCAAAGCCCCCAAACTCATGATTTATGATGTCAGTAATCGGCCCTCAGGGGTTTCTAATCGCTTCTCTGGCTCCAAGTCTGGCAACACGGCCTCCCTGACCATCTCTGGGCTCCAGGCTGAGGACGAGGCTGATTATTACTGCAGCTCATATACAAGCAGCAGCACTCTCTATGTGGTATTCGGCGGAGGGACCAAGCTGACCGTCCTAGGTCAGCCCAAGGCTGCCCCCTCGGTCACTCTGTTCCCGCCCTCCTCTGAGGAGCTTCAAGCCAACAAGGCCACACTGGTGTGTCTCATAAGTGACTTCTACCCGGGAGCCGTGACAGTGGCCTGGAAGGCAGATAGCAGCCCCGTCAAGGCGGGAGTGGAGACCACCACACCCTCCAAACAAAGCAACAACAAGTACGCGGCCAGCAGCTA', 'L', 'F', 'T', 'F', 'T', 'F', 'T', 'IGLV2-14*03', nan, 'IGLJ2*01', 'CAGTCTGCCCTGACTCAGCCTGCCTCCGTGTCTGGGTCTCCTGGACAGTCGATCACCATCTCCTGCACTGGAACCAGCAGTGACGTTGGTGGTTATAACTATGTCTCCTGGTACCAACAACACCCAGGCAAAGCCCCCAAACTCATGATTTATGATGTCAGTAATCGGCCCTCAGGGGTTTCTAATCGCTTCTCTGGCTCCAAGTCTGGCAACACGGCCTCCCTGACCATCTCTGGGCTCCAGGCTGAGGACGAGGCTGATTATTACTGCAGCTCATATACAAGCAGCAGCACTCTCTATGTGGTATTCGGCGGAGGGACCAAGCTGACCGTCCTAG', 'CAGTCTGCCCTGACTCAGCCTGCCTCCGTGTCTGGGTCTCCTGGACAGTCGATCACCATCTCCTGCACTGGAACCAGCAGTGACGTTGGTGGTTATAACTATGTCTCCTGGTACCAACAACACCCAGGCAAAGCCCCCAAACTCATGATTTATGATGTCAGTAATCGGCCCTCAGGGGTTTCTAATCGCTTCTCTGGCTCCAAGTCTGGCAACACGGCCTCCCTGACCATCTCTGGGCTCCAGGCTGAGGACGAGGCTGATTATTACTGCAGCTCATATACAAGCAGCAGCACTCTCNNTGTGGTATTCGGCGGAGGGACCAAGCTGACCGTCCTAG', 'QSALTQPASVSGSPGQSITISCTGTSSDVGGYNYVSWYQQHPGKAPKLMIYDVSNRPSGVSNRFSGSKSGNTASLTISGLQAEDEADYYCSSYTSSSTLYVVFGGGTKLTVL', 'QSALTQPASVSGSPGQSITISCTGTSSDVGGYNYVSWYQQHPGKAPKLMIYDVSNRPSGVSNRFSGSKSGNTASLTISGLQAEDEADYYCSSYTSSSTLXVVFGGGTKLTVL', '1', '297', nan, nan, '300.0', '337.0', 'CAGTCTGCCCTGACTCAGCCTGCCTCCGTGTCTGGGTCTCCTGGACAGTCGATCACCATCTCCTGCACTGGAACCAGCAGTGACGTTGGTGGTTATAACTATGTCTCCTGGTACCAACAACACCCAGGCAAAGCCCCCAAACTCATGATTTATGATGTCAGTAATCGGCCCTCAGGGGTTTCTAATCGCTTCTCTGGCTCCAAGTCTGGCAACACGGCCTCCCTGACCATCTCTGGGCTCCAGGCTGAGGACGAGGCTGATTATTACTGCAGCTCATATACAAGCAGCAGCACTCTC', 'QSALTQPASVSGSPGQSITISCTGTSSDVGGYNYVSWYQQHPGKAPKLMIYDVSNRPSGVSNRFSGSKSGNTASLTISGLQAEDEADYYCSSYTSSSTL', 'CAGTCTGCCCTGACTCAGCCTGCCTCCGTGTCTGGGTCTCCTGGACAGTCGATCACCATCTCCTGCACTGGAACCAGCAGTGACGTTGGTGGTTATAACTATGTCTCCTGGTACCAACAACACCCAGGCAAAGCCCCCAAACTCATGATTTATGATGTCAGTAATCGGCCCTCAGGGGTTTCTAATCGCTTCTCTGGCTCCAAGTCTGGCAACACGGCCTCCCTGACCATCTCTGGGCTCCAGGCTGAGGACGAGGCTGATTATTACTGCAGCTCATATACAAGCAGCAGCACTCTC', 'QSALTQPASVSGSPGQSITISCTGTSSDVGGYNYVSWYQQHPGKAPKLMIYDVSNRPSGVSNRFSGSKSGNTASLTISGLQAEDEADYYCSSYTSSSTL', nan, nan, nan, nan, 'TGTGGTATTCGGCGGAGGGACCAAGCTGACCGTCCTAG', 'VVFGGGTKLTVL', 'TGTGGTATTCGGCGGAGGGACCAAGCTGACCGTCCTAG', 'VVFGGGTKLTVL', 'CAGTCTGCCCTGACTCAGCCTGCCTCCGTGTCTGGGTCTCCTGGACAGTCGATCACCATCTCCTGCACTGGAACC', 'QSALTQPASVSGSPGQSITISCTGT', 'AGCAGTGACGTTGGTGGTTATAACTAT', 'SSDVGGYNY', 'GTCTCCTGGTACCAACAACACCCAGGCAAAGCCCCCAAACTCATGATTTAT', 'VSWYQQHPGKAPKLMIY', 'GATGTCAGT', 'DVS', 'AATCGGCCCTCAGGGGTTTCTAATCGCTTCTCTGGCTCCAAGTCTGGCAACACGGCCTCCCTGACCATCTCTGGGCTCCAGGCTGAGGACGAGGCTGATTATTACTGC', 'NRPSGVSNRFSGSKSGNTASLTISGLQAEDEADYYC', 'TTCGGCGGAGGGACCAAGCTGACCGTCCTA', 'FGGGTKLTVL', 'AGCTCATATACAAGCAGCAGCACTCTCTATGTGGTA', 'SSYTSSSTLYVV', 'TGCAGCTCATATACAAGCAGCAGCACTCTCTATGTGGTATTC', '42.0', 'CSSYTSSSTLYVVF', '14.0', '464.595', nan, '73.749', '101S297M251S', nan, '400S38M211S', '1.0540000000000001e-132', nan, '3.99e-17', '100.0', nan, '100.0', '102', '398', '1', '297', nan, nan, nan, nan, '401.0', '438.0', '1.0', '38.0', '102', '176', '177', '203', '204', '254', '255', '263', '264', '371', '408.0', '437.0', '372.0', '407.0', 'TA', '2.0', nan, nan, 'GTCAGCCCAAGGCTGCCCCCTCGGTCACTCTGTTCCCGCCCTCCTCTGAGGAGCTTCAAGCCAACAAGGCCACACTGGTGTGTCTCATAAGTGACTTCTACCCGGGAGCCGTGACAGTGGCCTGGAAGGCAGATAGCAGCCCCGTCAAGGCGGGAGTGGAGACCACCACACCCTCCAAACAAAGCAACAACAAGTACGCGGCCAGCAGCTA', 'Bulk', '1', \"{'fwl1': {'1 ': 'Q', '2 ': 'S', '3 ': 'A', '4 ': 'L', '5 ': 'T', '6 ': 'Q', '7 ': 'P', '8 ': 'A', '9 ': 'S', '11 ': 'V', '12 ': 'S', '13 ': 'G', '14 ': 'S', '15 ': 'P', '16 ': 'G', '17 ': 'Q', '18 ': 'S', '19 ': 'I', '20 ': 'T', '21 ': 'I', '22 ': 'S', '23 ': 'C', '24 ': 'T', '25 ': 'G', '26 ': 'T'}, 'cdrl1': {'27 ': 'S', '28 ': 'S', '29 ': 'D', '30 ': 'V', '31 ': 'G', '35 ': 'G', '36 ': 'Y', '37 ': 'N', '38 ': 'Y'}, 'fwl2': {'39 ': 'V', '40 ': 'S', '41 ': 'W', '42 ': 'Y', '43 ': 'Q', '44 ': 'Q', '45 ': 'H', '46 ': 'P', '47 ': 'G', '48 ': 'K', '49 ': 'A', '50 ': 'P', '51 ': 'K', '52 ': 'L', '53 ': 'M', '54 ': 'I', '55 ': 'Y'}, 'cdrl2': {'56 ': 'D', '57 ': 'V', '65 ': 'S'}, 'fwl3': {'66 ': 'N', '67 ': 'R', '68 ': 'P', '69 ': 'S', '70 ': 'G', '71 ': 'V', '72 ': 'S', '74 ': 'N', '75 ': 'R', '76 ': 'F', '77 ': 'S', '78 ': 'G', '79 ': 'S', '80 ': 'K', '83 ': 'S', '84 ': 'G', '85 ': 'N', '86 ': 'T', '87 ': 'A', '88 ': 'S', '89 ': 'L', '90 ': 'T', '91 ': 'I', '92 ': 'S', '93 ': 'G', '94 ': 'L', '95 ': 'Q', '96 ': 'A', '97 ': 'E', '98 ': 'D', '99 ': 'E', '100 ': 'A', '101 ': 'D', '102 ': 'Y', '103 ': 'Y', '104 ': 'C'}, 'cdrl3': {'105 ': 'S', '106 ': 'S', '107 ': 'Y', '108 ': 'T', '109 ': 'S', '110 ': 'S', '112 ': 'S', '113 ': 'T', '114 ': 'L', '115 ': 'Y', '116 ': 'V', '117 ': 'V'}, 'fwl4': {'118 ': 'F', '119 ': 'G', '120 ': 'G', '121 ': 'G', '122 ': 'T', '123 ': 'K', '124 ': 'L', '125 ': 'T', '126 ': 'V', '127 ': 'L'}}\")\n",
      "Data columns (total 1 columns):\n",
      " #   Column                                                                                                                                                                                                                                                                                                                                                    Non-Null Count  Dtype \n",
      "---  ------                                                                                                                                                                                                                                                                                                                                                    --------------  ----- \n",
      " 0   {\"Run\": \"1a_S1mod2_S1_\", \"Link\": \"https://doi.org/10.1038/s41590-022-01230-1\", \"Author\": \"Phad et al., 2022\", \"Species\": \"human\", \"Age\": \"no\", \"BSource\": \"PBMC\", \"BType\": \"Plasma-B-Cells\", \"Vaccine\": \"None\", \"Disease\": \"None\", \"Subject\": \"Donor-2\", \"Longitudinal\": \"May-Year-2020\", \"Unique sequences\": 2287, \"Isotype\": \"All\", \"Chain\": \"Paired\"}  2288 non-null   object\n",
      "dtypes: object(1)\n",
      "memory usage: 4.8+ MB\n"
     ]
    }
   ],
   "source": [
    "import pandas as pd\n",
    "\n",
    "# Path to your file\n",
    "file_path = \"/home/ec2-user/SageMaker/InterPLM/oas_data/1a_S1mod2_S1__1_Paired_All.csv.gz\"\n",
    "\n",
    "# Load the first few rows to inspect\n",
    "df = pd.read_csv(file_path, compression=\"gzip\")\n",
    "\n",
    "# Show basic info about the dataframe\n",
    "print(\"=== Columns ===\")\n",
    "print(df.columns.tolist())\n",
    "\n",
    "print(\"\\n=== Shape ===\")\n",
    "print(df.shape)\n",
    "\n",
    "print(\"\\n=== First 5 rows ===\")\n",
    "print(df.head())\n",
    "\n",
    "# If you want to see more detailed info (types, non-null counts)\n",
    "print(\"\\n=== Info ===\")\n",
    "df.info()\n"
   ]
  },
  {
   "cell_type": "code",
   "execution_count": 3,
   "metadata": {},
   "outputs": [
    {
     "data": {
      "text/plain": [
       "Index(['{\"Run\": \"SRR28422122\", \"Link\": \"https://pubmed.ncbi.nlm.nih.gov/39548093/\", \"Author\": \"Dieudonne et al.\", \"Species\": \"human\", \"Age\": 54.0, \"BSource\": \"PBMC\", \"BType\": \"Unsorted-B-Cells\", \"Subject\": \"no\", \"Disease\": \"Primary Antiphospholipid Syndrome\", \"Vaccine\": \"None\", \"Longitudinal\": \"no\", \"Unique sequences\": 816, \"Isotype\": \"All\", \"Chain\": \"Paired\"}'], dtype='object')"
      ]
     },
     "execution_count": 3,
     "metadata": {},
     "output_type": "execute_result"
    }
   ],
   "source": [
    "df.columns"
   ]
  },
  {
   "cell_type": "code",
   "execution_count": 6,
   "metadata": {},
   "outputs": [
    {
     "ename": "KeyError",
     "evalue": "'sequence_alignment_aa_heavy'",
     "output_type": "error",
     "traceback": [
      "\u001b[31m---------------------------------------------------------------------------\u001b[39m",
      "\u001b[31mKeyError\u001b[39m                                  Traceback (most recent call last)",
      "\u001b[36mFile \u001b[39m\u001b[32m~/SageMaker/.cs/conda/envs/interplm/lib/python3.11/site-packages/pandas/core/indexes/base.py:3812\u001b[39m, in \u001b[36mIndex.get_loc\u001b[39m\u001b[34m(self, key)\u001b[39m\n\u001b[32m   3811\u001b[39m \u001b[38;5;28;01mtry\u001b[39;00m:\n\u001b[32m-> \u001b[39m\u001b[32m3812\u001b[39m     \u001b[38;5;28;01mreturn\u001b[39;00m \u001b[38;5;28;43mself\u001b[39;49m\u001b[43m.\u001b[49m\u001b[43m_engine\u001b[49m\u001b[43m.\u001b[49m\u001b[43mget_loc\u001b[49m\u001b[43m(\u001b[49m\u001b[43mcasted_key\u001b[49m\u001b[43m)\u001b[49m\n\u001b[32m   3813\u001b[39m \u001b[38;5;28;01mexcept\u001b[39;00m \u001b[38;5;167;01mKeyError\u001b[39;00m \u001b[38;5;28;01mas\u001b[39;00m err:\n",
      "\u001b[36mFile \u001b[39m\u001b[32mpandas/_libs/index.pyx:167\u001b[39m, in \u001b[36mpandas._libs.index.IndexEngine.get_loc\u001b[39m\u001b[34m()\u001b[39m\n",
      "\u001b[36mFile \u001b[39m\u001b[32mpandas/_libs/index.pyx:196\u001b[39m, in \u001b[36mpandas._libs.index.IndexEngine.get_loc\u001b[39m\u001b[34m()\u001b[39m\n",
      "\u001b[36mFile \u001b[39m\u001b[32mpandas/_libs/hashtable_class_helper.pxi:7088\u001b[39m, in \u001b[36mpandas._libs.hashtable.PyObjectHashTable.get_item\u001b[39m\u001b[34m()\u001b[39m\n",
      "\u001b[36mFile \u001b[39m\u001b[32mpandas/_libs/hashtable_class_helper.pxi:7096\u001b[39m, in \u001b[36mpandas._libs.hashtable.PyObjectHashTable.get_item\u001b[39m\u001b[34m()\u001b[39m\n",
      "\u001b[31mKeyError\u001b[39m: 'sequence_alignment_aa_heavy'",
      "\nThe above exception was the direct cause of the following exception:\n",
      "\u001b[31mKeyError\u001b[39m                                  Traceback (most recent call last)",
      "\u001b[36mCell\u001b[39m\u001b[36m \u001b[39m\u001b[32mIn[6]\u001b[39m\u001b[32m, line 1\u001b[39m\n\u001b[32m----> \u001b[39m\u001b[32m1\u001b[39m \u001b[43mdf\u001b[49m\u001b[43m[\u001b[49m\u001b[33;43m\"\u001b[39;49m\u001b[33;43msequence_alignment_aa_heavy\u001b[39;49m\u001b[33;43m\"\u001b[39;49m\u001b[43m]\u001b[49m\n",
      "\u001b[36mFile \u001b[39m\u001b[32m~/SageMaker/.cs/conda/envs/interplm/lib/python3.11/site-packages/pandas/core/frame.py:4107\u001b[39m, in \u001b[36mDataFrame.__getitem__\u001b[39m\u001b[34m(self, key)\u001b[39m\n\u001b[32m   4105\u001b[39m \u001b[38;5;28;01mif\u001b[39;00m \u001b[38;5;28mself\u001b[39m.columns.nlevels > \u001b[32m1\u001b[39m:\n\u001b[32m   4106\u001b[39m     \u001b[38;5;28;01mreturn\u001b[39;00m \u001b[38;5;28mself\u001b[39m._getitem_multilevel(key)\n\u001b[32m-> \u001b[39m\u001b[32m4107\u001b[39m indexer = \u001b[38;5;28;43mself\u001b[39;49m\u001b[43m.\u001b[49m\u001b[43mcolumns\u001b[49m\u001b[43m.\u001b[49m\u001b[43mget_loc\u001b[49m\u001b[43m(\u001b[49m\u001b[43mkey\u001b[49m\u001b[43m)\u001b[49m\n\u001b[32m   4108\u001b[39m \u001b[38;5;28;01mif\u001b[39;00m is_integer(indexer):\n\u001b[32m   4109\u001b[39m     indexer = [indexer]\n",
      "\u001b[36mFile \u001b[39m\u001b[32m~/SageMaker/.cs/conda/envs/interplm/lib/python3.11/site-packages/pandas/core/indexes/base.py:3819\u001b[39m, in \u001b[36mIndex.get_loc\u001b[39m\u001b[34m(self, key)\u001b[39m\n\u001b[32m   3814\u001b[39m     \u001b[38;5;28;01mif\u001b[39;00m \u001b[38;5;28misinstance\u001b[39m(casted_key, \u001b[38;5;28mslice\u001b[39m) \u001b[38;5;129;01mor\u001b[39;00m (\n\u001b[32m   3815\u001b[39m         \u001b[38;5;28misinstance\u001b[39m(casted_key, abc.Iterable)\n\u001b[32m   3816\u001b[39m         \u001b[38;5;129;01mand\u001b[39;00m \u001b[38;5;28many\u001b[39m(\u001b[38;5;28misinstance\u001b[39m(x, \u001b[38;5;28mslice\u001b[39m) \u001b[38;5;28;01mfor\u001b[39;00m x \u001b[38;5;129;01min\u001b[39;00m casted_key)\n\u001b[32m   3817\u001b[39m     ):\n\u001b[32m   3818\u001b[39m         \u001b[38;5;28;01mraise\u001b[39;00m InvalidIndexError(key)\n\u001b[32m-> \u001b[39m\u001b[32m3819\u001b[39m     \u001b[38;5;28;01mraise\u001b[39;00m \u001b[38;5;167;01mKeyError\u001b[39;00m(key) \u001b[38;5;28;01mfrom\u001b[39;00m\u001b[38;5;250m \u001b[39m\u001b[34;01merr\u001b[39;00m\n\u001b[32m   3820\u001b[39m \u001b[38;5;28;01mexcept\u001b[39;00m \u001b[38;5;167;01mTypeError\u001b[39;00m:\n\u001b[32m   3821\u001b[39m     \u001b[38;5;66;03m# If we have a listlike key, _check_indexing_error will raise\u001b[39;00m\n\u001b[32m   3822\u001b[39m     \u001b[38;5;66;03m#  InvalidIndexError. Otherwise we fall through and re-raise\u001b[39;00m\n\u001b[32m   3823\u001b[39m     \u001b[38;5;66;03m#  the TypeError.\u001b[39;00m\n\u001b[32m   3824\u001b[39m     \u001b[38;5;28mself\u001b[39m._check_indexing_error(key)\n",
      "\u001b[31mKeyError\u001b[39m: 'sequence_alignment_aa_heavy'"
     ]
    }
   ],
   "source": [
    "df[\"sequence_alignment_aa_heavy\"]\n"
   ]
  },
  {
   "cell_type": "code",
   "execution_count": 7,
   "metadata": {},
   "outputs": [
    {
     "name": "stdout",
     "output_type": "stream",
     "text": [
      "<class 'pandas.core.indexes.base.Index'>\n",
      "Index(['{\"Run\": \"SRR28422122\", \"Link\": \"https://pubmed.ncbi.nlm.nih.gov/39548093/\", \"Author\": \"Dieudonne et al.\", \"Species\": \"human\", \"Age\": 54.0, \"BSource\": \"PBMC\", \"BType\": \"Unsorted-B-Cells\", \"Subject\": \"no\", \"Disease\": \"Primary Antiphospholipid Syndrome\", \"Vaccine\": \"None\", \"Longitudinal\": \"no\", \"Unique sequences\": 816, \"Isotype\": \"All\", \"Chain\": \"Paired\"}'], dtype='object')\n"
     ]
    }
   ],
   "source": [
    "print(type(df.columns))\n",
    "print(df.columns[:5])"
   ]
  },
  {
   "cell_type": "code",
   "execution_count": 9,
   "metadata": {},
   "outputs": [
    {
     "data": {
      "text/plain": [
       "{\"Run\": \"SRR28422122\", \"Link\": \"https://pubmed.ncbi.nlm.nih.gov/39548093/\", \"Author\": \"Dieudonne et al.\", \"Species\": \"human\", \"Age\": 54.0, \"BSource\": \"PBMC\", \"BType\": \"Unsorted-B-Cells\", \"Subject\": \"no\", \"Disease\": \"Primary Antiphospholipid Syndrome\", \"Vaccine\": \"None\", \"Longitudinal\": \"no\", \"Unique sequences\": 816, \"Isotype\": \"All\", \"Chain\": \"Paired\"}    ANARCI_status_light\n",
       "Name: (sequence_id_heavy, sequence_heavy, locus_heavy, stop_codon_heavy, vj_in_frame_heavy, v_frameshift_heavy, productive_heavy, rev_comp_heavy, complete_vdj_heavy, v_call_heavy, d_call_heavy, j_call_heavy, sequence_alignment_heavy, germline_alignment_heavy, sequence_alignment_aa_heavy, germline_alignment_aa_heavy, v_alignment_start_heavy, v_alignment_end_heavy, d_alignment_start_heavy, d_alignment_end_heavy, j_alignment_start_heavy, j_alignment_end_heavy, v_sequence_alignment_heavy, v_sequence_alignment_aa_heavy, v_germline_alignment_heavy, v_germline_alignment_aa_heavy, d_sequence_alignment_heavy, d_sequence_alignment_aa_heavy, d_germline_alignment_heavy, d_germline_alignment_aa_heavy, j_sequence_alignment_heavy, j_sequence_alignment_aa_heavy, j_germline_alignment_heavy, j_germline_alignment_aa_heavy, fwr1_heavy, fwr1_aa_heavy, cdr1_heavy, cdr1_aa_heavy, fwr2_heavy, fwr2_aa_heavy, cdr2_heavy, cdr2_aa_heavy, fwr3_heavy, fwr3_aa_heavy, fwr4_heavy, fwr4_aa_heavy, cdr3_heavy, cdr3_aa_heavy, junction_heavy, junction_length_heavy, junction_aa_heavy, junction_aa_length_heavy, v_score_heavy, d_score_heavy, j_score_heavy, v_cigar_heavy, d_cigar_heavy, j_cigar_heavy, v_support_heavy, d_support_heavy, j_support_heavy, v_identity_heavy, d_identity_heavy, j_identity_heavy, v_sequence_start_heavy, v_sequence_end_heavy, v_germline_start_heavy, v_germline_end_heavy, d_sequence_start_heavy, d_sequence_end_heavy, d_germline_start_heavy, d_germline_end_heavy, j_sequence_start_heavy, j_sequence_end_heavy, j_germline_start_heavy, j_germline_end_heavy, fwr1_start_heavy, fwr1_end_heavy, cdr1_start_heavy, cdr1_end_heavy, fwr2_start_heavy, fwr2_end_heavy, cdr2_start_heavy, cdr2_end_heavy, fwr3_start_heavy, fwr3_end_heavy, fwr4_start_heavy, fwr4_end_heavy, cdr3_start_heavy, cdr3_end_heavy, np1_heavy, np1_length_heavy, np2_heavy, np2_length_heavy, c_region_heavy, Isotype_heavy, Redundancy_heavy, ANARCI_numbering_heavy, ANARCI_status_heavy, sequence_id_light, ...), dtype: object"
      ]
     },
     "execution_count": 9,
     "metadata": {},
     "output_type": "execute_result"
    }
   ],
   "source": [
    "df.iloc[0]"
   ]
  },
  {
   "cell_type": "code",
   "execution_count": 12,
   "metadata": {},
   "outputs": [
    {
     "name": "stdout",
     "output_type": "stream",
     "text": [
      "(817, 1)\n",
      "Index(['{\"Run\": \"SRR28422122\", \"Link\": \"https://pubmed.ncbi.nlm.nih.gov/39548093/\", \"Author\": \"Dieudonne et al.\", \"Species\": \"human\", \"Age\": 54.0, \"BSource\": \"PBMC\", \"BType\": \"Unsorted-B-Cells\", \"Subject\": \"no\", \"Disease\": \"Primary Antiphospholipid Syndrome\", \"Vaccine\": \"None\", \"Longitudinal\": \"no\", \"Unique sequences\": 816, \"Isotype\": \"All\", \"Chain\": \"Paired\"}'], dtype='object')\n"
     ]
    },
    {
     "data": {
      "text/plain": [
       "{\"Run\": \"SRR28422122\", \"Link\": \"https://pubmed.ncbi.nlm.nih.gov/39548093/\", \"Author\": \"Dieudonne et al.\", \"Species\": \"human\", \"Age\": 54.0, \"BSource\": \"PBMC\", \"BType\": \"Unsorted-B-Cells\", \"Subject\": \"no\", \"Disease\": \"Primary Antiphospholipid Syndrome\", \"Vaccine\": \"None\", \"Longitudinal\": \"no\", \"Unique sequences\": 816, \"Isotype\": \"All\", \"Chain\": \"Paired\"}    ANARCI_status_light\n",
       "Name: (sequence_id_heavy, sequence_heavy, locus_heavy, stop_codon_heavy, vj_in_frame_heavy, v_frameshift_heavy, productive_heavy, rev_comp_heavy, complete_vdj_heavy, v_call_heavy, d_call_heavy, j_call_heavy, sequence_alignment_heavy, germline_alignment_heavy, sequence_alignment_aa_heavy, germline_alignment_aa_heavy, v_alignment_start_heavy, v_alignment_end_heavy, d_alignment_start_heavy, d_alignment_end_heavy, j_alignment_start_heavy, j_alignment_end_heavy, v_sequence_alignment_heavy, v_sequence_alignment_aa_heavy, v_germline_alignment_heavy, v_germline_alignment_aa_heavy, d_sequence_alignment_heavy, d_sequence_alignment_aa_heavy, d_germline_alignment_heavy, d_germline_alignment_aa_heavy, j_sequence_alignment_heavy, j_sequence_alignment_aa_heavy, j_germline_alignment_heavy, j_germline_alignment_aa_heavy, fwr1_heavy, fwr1_aa_heavy, cdr1_heavy, cdr1_aa_heavy, fwr2_heavy, fwr2_aa_heavy, cdr2_heavy, cdr2_aa_heavy, fwr3_heavy, fwr3_aa_heavy, fwr4_heavy, fwr4_aa_heavy, cdr3_heavy, cdr3_aa_heavy, junction_heavy, junction_length_heavy, junction_aa_heavy, junction_aa_length_heavy, v_score_heavy, d_score_heavy, j_score_heavy, v_cigar_heavy, d_cigar_heavy, j_cigar_heavy, v_support_heavy, d_support_heavy, j_support_heavy, v_identity_heavy, d_identity_heavy, j_identity_heavy, v_sequence_start_heavy, v_sequence_end_heavy, v_germline_start_heavy, v_germline_end_heavy, d_sequence_start_heavy, d_sequence_end_heavy, d_germline_start_heavy, d_germline_end_heavy, j_sequence_start_heavy, j_sequence_end_heavy, j_germline_start_heavy, j_germline_end_heavy, fwr1_start_heavy, fwr1_end_heavy, cdr1_start_heavy, cdr1_end_heavy, fwr2_start_heavy, fwr2_end_heavy, cdr2_start_heavy, cdr2_end_heavy, fwr3_start_heavy, fwr3_end_heavy, fwr4_start_heavy, fwr4_end_heavy, cdr3_start_heavy, cdr3_end_heavy, np1_heavy, np1_length_heavy, np2_heavy, np2_length_heavy, c_region_heavy, Isotype_heavy, Redundancy_heavy, ANARCI_numbering_heavy, ANARCI_status_heavy, sequence_id_light, ...), dtype: object"
      ]
     },
     "execution_count": 12,
     "metadata": {},
     "output_type": "execute_result"
    }
   ],
   "source": [
    "df = pd.read_csv(file_path, compression=\"gzip\", header=0)\n",
    "print(df.shape)\n",
    "print(df.columns[:20])\n",
    "\n",
    "df.iloc[0]"
   ]
  },
  {
   "cell_type": "code",
   "execution_count": 1,
   "metadata": {},
   "outputs": [
    {
     "name": "stdout",
     "output_type": "stream",
     "text": [
      "\n",
      "DataFrame shape: (816, 198)\n",
      "First few columns: Index(['sequence_id_heavy', 'sequence_heavy', 'locus_heavy',\n",
      "       'stop_codon_heavy', 'vj_in_frame_heavy', 'v_frameshift_heavy',\n",
      "       'productive_heavy', 'rev_comp_heavy', 'complete_vdj_heavy',\n",
      "       'v_call_heavy'],\n",
      "      dtype='object')\n",
      "First row:\n",
      "sequence_alignment_aa_heavy    QLQLQESGPGLVKPSETLSLTCTVSGGSISSSSYYWGWIRQPPGKG...\n",
      "cdr3_aa_heavy                                                     ARGAAAAGTLPLDY\n",
      "sequence_alignment_aa_light    EIVLTQSPATLSLSPGERATLSCRASQSVSSYLAWYQQKPGQAPRL...\n",
      "cdr3_aa_light                                                        QQRSNWPPSLT\n",
      "Name: 0, dtype: object\n"
     ]
    }
   ],
   "source": [
    "import pandas as pd\n",
    "import json\n",
    "\n",
    "file_path = \"/home/ec2-user/SageMaker/InterPLM/oas_data/SRR28422122_1_Paired_All.csv.gz\"\n",
    "\n",
    "# --- Step 1: grab the first row (metadata) ---\n",
    "\n",
    "# --- Step 2: load the rest as normal dataframe ---\n",
    "df = pd.read_csv(file_path, compression=\"gzip\", header=0, skiprows=1)\n",
    "\n",
    "print(\"\\nDataFrame shape:\", df.shape)\n",
    "print(\"First few columns:\", df.columns[:10])\n",
    "print(\"First row:\")\n",
    "print(df.iloc[0][[\"sequence_alignment_aa_heavy\", \"cdr3_aa_heavy\", \"sequence_alignment_aa_light\", \"cdr3_aa_light\"]])\n"
   ]
  },
  {
   "cell_type": "code",
   "execution_count": 4,
   "metadata": {},
   "outputs": [
    {
     "data": {
      "text/plain": [
       "Index(['sequence_id_heavy', 'sequence_heavy', 'locus_heavy',\n",
       "       'stop_codon_heavy', 'vj_in_frame_heavy', 'v_frameshift_heavy',\n",
       "       'productive_heavy', 'rev_comp_heavy', 'complete_vdj_heavy',\n",
       "       'v_call_heavy',\n",
       "       ...\n",
       "       'cdr3_end_light', 'np1_light', 'np1_length_light', 'np2_light',\n",
       "       'np2_length_light', 'c_region_light', 'Isotype_light',\n",
       "       'Redundancy_light', 'ANARCI_numbering_light', 'ANARCI_status_light'],\n",
       "      dtype='object', length=198)"
      ]
     },
     "execution_count": 4,
     "metadata": {},
     "output_type": "execute_result"
    }
   ],
   "source": [
    "df.columns"
   ]
  },
  {
   "cell_type": "code",
   "execution_count": 5,
   "metadata": {},
   "outputs": [],
   "source": [
    "with open(\"columns.txt\", \"w\") as f:\n",
    "    for col in df.columns:\n",
    "        f.write(f\"{col}\\n\")"
   ]
  },
  {
   "cell_type": "code",
   "execution_count": 2,
   "metadata": {},
   "outputs": [
    {
     "data": {
      "text/plain": [
       "198"
      ]
     },
     "execution_count": 2,
     "metadata": {},
     "output_type": "execute_result"
    }
   ],
   "source": [
    "len(df.columns)"
   ]
  },
  {
   "cell_type": "code",
   "execution_count": 3,
   "metadata": {},
   "outputs": [
    {
     "name": "stdout",
     "output_type": "stream",
     "text": [
      "sequence_alignment_aa_heavy    QLQLQESGPGLVKPSETLSLTCTVSGGSISSSSYYWGWIRQPPGKG...\n",
      "Name: 0, dtype: object\n"
     ]
    }
   ],
   "source": [
    "print(df.iloc[0][[\"sequence_alignment_aa_heavy\"]])\n"
   ]
  },
  {
   "cell_type": "code",
   "execution_count": 14,
   "metadata": {},
   "outputs": [
    {
     "ename": "JSONDecodeError",
     "evalue": "Extra data: line 1 column 4 (char 3)",
     "output_type": "error",
     "traceback": [
      "\u001b[31m---------------------------------------------------------------------------\u001b[39m",
      "\u001b[31mJSONDecodeError\u001b[39m                           Traceback (most recent call last)",
      "\u001b[36mCell\u001b[39m\u001b[36m \u001b[39m\u001b[32mIn[14]\u001b[39m\u001b[32m, line 10\u001b[39m\n\u001b[32m      8\u001b[39m \u001b[38;5;28;01mwith\u001b[39;00m gzip.open(file_path, \u001b[33m\"\u001b[39m\u001b[33mrt\u001b[39m\u001b[33m\"\u001b[39m) \u001b[38;5;28;01mas\u001b[39;00m fh:\n\u001b[32m      9\u001b[39m     first_line = fh.readline().strip()\n\u001b[32m---> \u001b[39m\u001b[32m10\u001b[39m metadata = \u001b[43mjson\u001b[49m\u001b[43m.\u001b[49m\u001b[43mloads\u001b[49m\u001b[43m(\u001b[49m\u001b[43mfirst_line\u001b[49m\u001b[43m)\u001b[49m\n\u001b[32m     11\u001b[39m \u001b[38;5;28mprint\u001b[39m(\u001b[33m\"\u001b[39m\u001b[33m✅ Parsed metadata keys:\u001b[39m\u001b[33m\"\u001b[39m, \u001b[38;5;28mlist\u001b[39m(metadata.keys()))\n\u001b[32m     12\u001b[39m \u001b[38;5;28mprint\u001b[39m(\u001b[33m\"\u001b[39m\u001b[33mRun:\u001b[39m\u001b[33m\"\u001b[39m, metadata.get(\u001b[33m\"\u001b[39m\u001b[33mRun\u001b[39m\u001b[33m\"\u001b[39m), \u001b[33m\"\u001b[39m\u001b[33m| Author:\u001b[39m\u001b[33m\"\u001b[39m, metadata.get(\u001b[33m\"\u001b[39m\u001b[33mAuthor\u001b[39m\u001b[33m\"\u001b[39m))\n",
      "\u001b[36mFile \u001b[39m\u001b[32m~/SageMaker/.cs/conda/envs/interplm/lib/python3.11/json/__init__.py:346\u001b[39m, in \u001b[36mloads\u001b[39m\u001b[34m(s, cls, object_hook, parse_float, parse_int, parse_constant, object_pairs_hook, **kw)\u001b[39m\n\u001b[32m    341\u001b[39m     s = s.decode(detect_encoding(s), \u001b[33m'\u001b[39m\u001b[33msurrogatepass\u001b[39m\u001b[33m'\u001b[39m)\n\u001b[32m    343\u001b[39m \u001b[38;5;28;01mif\u001b[39;00m (\u001b[38;5;28mcls\u001b[39m \u001b[38;5;129;01mis\u001b[39;00m \u001b[38;5;28;01mNone\u001b[39;00m \u001b[38;5;129;01mand\u001b[39;00m object_hook \u001b[38;5;129;01mis\u001b[39;00m \u001b[38;5;28;01mNone\u001b[39;00m \u001b[38;5;129;01mand\u001b[39;00m\n\u001b[32m    344\u001b[39m         parse_int \u001b[38;5;129;01mis\u001b[39;00m \u001b[38;5;28;01mNone\u001b[39;00m \u001b[38;5;129;01mand\u001b[39;00m parse_float \u001b[38;5;129;01mis\u001b[39;00m \u001b[38;5;28;01mNone\u001b[39;00m \u001b[38;5;129;01mand\u001b[39;00m\n\u001b[32m    345\u001b[39m         parse_constant \u001b[38;5;129;01mis\u001b[39;00m \u001b[38;5;28;01mNone\u001b[39;00m \u001b[38;5;129;01mand\u001b[39;00m object_pairs_hook \u001b[38;5;129;01mis\u001b[39;00m \u001b[38;5;28;01mNone\u001b[39;00m \u001b[38;5;129;01mand\u001b[39;00m \u001b[38;5;129;01mnot\u001b[39;00m kw):\n\u001b[32m--> \u001b[39m\u001b[32m346\u001b[39m     \u001b[38;5;28;01mreturn\u001b[39;00m \u001b[43m_default_decoder\u001b[49m\u001b[43m.\u001b[49m\u001b[43mdecode\u001b[49m\u001b[43m(\u001b[49m\u001b[43ms\u001b[49m\u001b[43m)\u001b[49m\n\u001b[32m    347\u001b[39m \u001b[38;5;28;01mif\u001b[39;00m \u001b[38;5;28mcls\u001b[39m \u001b[38;5;129;01mis\u001b[39;00m \u001b[38;5;28;01mNone\u001b[39;00m:\n\u001b[32m    348\u001b[39m     \u001b[38;5;28mcls\u001b[39m = JSONDecoder\n",
      "\u001b[36mFile \u001b[39m\u001b[32m~/SageMaker/.cs/conda/envs/interplm/lib/python3.11/json/decoder.py:340\u001b[39m, in \u001b[36mJSONDecoder.decode\u001b[39m\u001b[34m(self, s, _w)\u001b[39m\n\u001b[32m    338\u001b[39m end = _w(s, end).end()\n\u001b[32m    339\u001b[39m \u001b[38;5;28;01mif\u001b[39;00m end != \u001b[38;5;28mlen\u001b[39m(s):\n\u001b[32m--> \u001b[39m\u001b[32m340\u001b[39m     \u001b[38;5;28;01mraise\u001b[39;00m JSONDecodeError(\u001b[33m\"\u001b[39m\u001b[33mExtra data\u001b[39m\u001b[33m\"\u001b[39m, s, end)\n\u001b[32m    341\u001b[39m \u001b[38;5;28;01mreturn\u001b[39;00m obj\n",
      "\u001b[31mJSONDecodeError\u001b[39m: Extra data: line 1 column 4 (char 3)"
     ]
    }
   ],
   "source": [
    "import pandas as pd\n",
    "import json, gzip\n",
    "from pathlib import Path\n",
    "\n",
    "file_path = Path(\"/home/ec2-user/SageMaker/InterPLM/oas_data/SRR28422122_1_Paired_All.csv.gz\")\n",
    "\n",
    "# ---- Step 1: read the first line as JSON metadata ----\n",
    "with gzip.open(file_path, \"rt\") as fh:\n",
    "    first_line = fh.readline().strip()\n",
    "metadata = json.loads(first_line)\n",
    "print(\"✅ Parsed metadata keys:\", list(metadata.keys()))\n",
    "print(\"Run:\", metadata.get(\"Run\"), \"| Author:\", metadata.get(\"Author\"))\n",
    "\n",
    "# ---- Step 2: load the table (most OAS dumps are TSV) ----\n",
    "def load_oas_table(fp: Path):\n",
    "    # Try TSV first (most common)\n",
    "    df = pd.read_csv(fp, compression=\"gzip\", sep=\"\\t\", skiprows=1, dtype=str)\n",
    "    if df.shape[1] == 1:  # still one big column? fall back to Python engine sniffing\n",
    "        df = pd.read_csv(fp, compression=\"gzip\", sep=None, engine=\"python\", skiprows=1, dtype=str)\n",
    "    # If somehow it's still one wide column, try to split by large whitespace\n",
    "    if df.shape[1] == 1:\n",
    "        only_col = df.columns[0]\n",
    "        split = df[only_col].str.split(r\"\\s{2,}|\\t\", regex=True, expand=True)\n",
    "        # assume first row of split contains headers\n",
    "        split.columns = split.iloc[0]\n",
    "        df = split.iloc[1:].reset_index(drop=True)\n",
    "    return df\n",
    "\n",
    "df = load_oas_table(file_path)\n",
    "\n",
    "print(\"\\n📐 DataFrame shape:\", df.shape)\n",
    "print(\"🧭 First 10 columns:\", list(df.columns[:10]))\n",
    "\n",
    "# ---- Step 3: quick peek at the sequence AA columns if present ----\n",
    "wanted_cols = [\n",
    "    \"sequence_alignment_aa_heavy\",\n",
    "    \"cdr3_aa_heavy\",\n",
    "    \"sequence_alignment_aa_light\",\n",
    "    \"cdr3_aa_light\",\n",
    "]\n",
    "present = [c for c in wanted_cols if c in df.columns]\n",
    "if present:\n",
    "    display(df[present].head())\n",
    "else:\n",
    "    # help you discover the right names if they differ slightly\n",
    "    like_heavy = [c for c in df.columns if \"aa\" in c and \"heavy\" in c]\n",
    "    like_light = [c for c in df.columns if \"aa\" in c and \"light\" in c]\n",
    "    print(\"\\nColumns containing 'aa' & 'heavy':\", like_heavy[:20])\n",
    "    print(\"Columns containing 'aa' & 'light':\", like_light[:20])\n",
    "\n",
    "# Example: access the heavy AA alignment column\n",
    "# df[\"sequence_alignment_aa_heavy\"].head()\n"
   ]
  },
  {
   "cell_type": "code",
   "execution_count": 6,
   "metadata": {},
   "outputs": [],
   "source": [
    "def build_variable_domain(df, prefix=\"heavy\"):\n",
    "    parts = [\n",
    "        f\"fwr1_aa_{prefix}\",\n",
    "        f\"cdr1_aa_{prefix}\",\n",
    "        f\"fwr2_aa_{prefix}\",\n",
    "        f\"cdr2_aa_{prefix}\",\n",
    "        f\"fwr3_aa_{prefix}\",\n",
    "        f\"cdr3_aa_{prefix}\",\n",
    "        f\"fwr4_aa_{prefix}\",\n",
    "    ]\n",
    "    return df[parts].fillna(\"\").agg(\"\".join, axis=1)\n",
    "\n",
    "df[\"VH_clean\"] = build_variable_domain(df, \"heavy\")\n",
    "df[\"VL_clean\"] = build_variable_domain(df, \"light\")"
   ]
  },
  {
   "cell_type": "code",
   "execution_count": 8,
   "metadata": {},
   "outputs": [
    {
     "data": {
      "text/plain": [
       "'QLQLQESGPGLVKPSETLSLTCTVSGGSISSSSYYWGWIRQPPGKGLEWIGSIYYSGSTYYNPSLKSRVTISVDTSKNQFSLKLSSVTAADTAVYYCARGAAAAGTLPLDYWGQGTLVTVSS'"
      ]
     },
     "execution_count": 8,
     "metadata": {},
     "output_type": "execute_result"
    }
   ],
   "source": [
    "df.iloc[0][\"sequence_alignment_aa_heavy\"]"
   ]
  },
  {
   "cell_type": "code",
   "execution_count": 7,
   "metadata": {},
   "outputs": [
    {
     "data": {
      "text/plain": [
       "'QLQLQESGPGLVKPSETLSLTCTVSGGSISSSSYYWGWIRQPPGKGLEWIGSIYYSGSTYYNPSLKSRVTISVDTSKNQFSLKLSSVTAADTAVYYCARGAAAAGTLPLDYWGQGTLVTVSS'"
      ]
     },
     "execution_count": 7,
     "metadata": {},
     "output_type": "execute_result"
    }
   ],
   "source": [
    "df.iloc[0][\"VH_clean\"]"
   ]
  },
  {
   "cell_type": "code",
   "execution_count": 10,
   "metadata": {},
   "outputs": [
    {
     "name": "stdout",
     "output_type": "stream",
     "text": [
      "\n",
      "=== Heavy (VH) Chain (heavy) ===\n",
      "FWR1 : QLQLQESGPGLVKPSETLSLTCTVS\n",
      "CDR1 : GGSISSSSYY\n",
      "FWR2 : WGWIRQPPGKGLEWIGS\n",
      "CDR2 : IYYSGST\n",
      "FWR3 : YYNPSLKSRVTISVDTSKNQFSLKLSSVTAADTAVYYC\n",
      "CDR3 : ARGAAAAGTLPLDY\n",
      "FWR4 : WGQGTLVTVSS\n",
      "\n",
      "=== Light (VL) Chain (light) ===\n",
      "FWR1 : EIVLTQSPATLSLSPGERATLSCRAS\n",
      "CDR1 : QSVSSY\n",
      "FWR2 : LAWYQQKPGQAPRLLIY\n",
      "CDR2 : DAS\n",
      "FWR3 : NRATGIPARFSGSGSGTDFTLTISSLEPEDFAVYYC\n",
      "CDR3 : QQRSNWPPSLT\n",
      "FWR4 : FGGGTKVEIK\n"
     ]
    }
   ],
   "source": [
    "def print_antibody_segments(df, row_idx=0):\n",
    "    \"\"\"Pretty-print FWR/CDR segments for heavy and light chains of one antibody.\"\"\"\n",
    "\n",
    "    def show_chain(prefix, label):\n",
    "        print(f\"\\n=== {label} Chain ({prefix}) ===\")\n",
    "        for seg in [\"fwr1\", \"cdr1\", \"fwr2\", \"cdr2\", \"fwr3\", \"cdr3\", \"fwr4\"]:\n",
    "            col = f\"{seg}_aa_{prefix}\"\n",
    "            if col in df.columns:\n",
    "                seq = df.at[row_idx, col]\n",
    "                print(f\"{seg.upper():<5}: {seq if pd.notna(seq) else ''}\")\n",
    "\n",
    "    show_chain(\"heavy\", \"Heavy (VH)\")\n",
    "    show_chain(\"light\", \"Light (VL)\")\n",
    "\n",
    "\n",
    "# Example usage: look at the first row\n",
    "print_antibody_segments(df, row_idx=0)\n"
   ]
  }
 ],
 "metadata": {
  "kernelspec": {
   "display_name": "Python 3.11.13 ('interplm')",
   "language": "python",
   "name": "python3"
  },
  "language_info": {
   "codemirror_mode": {
    "name": "ipython",
    "version": 3
   },
   "file_extension": ".py",
   "mimetype": "text/x-python",
   "name": "python",
   "nbconvert_exporter": "python",
   "pygments_lexer": "ipython3",
   "version": "3.11.13"
  },
  "orig_nbformat": 4,
  "vscode": {
   "interpreter": {
    "hash": "1106d1d489397abf5d77132595a521cf67d890f951d991cd34215b053d2a27e6"
   }
  }
 },
 "nbformat": 4,
 "nbformat_minor": 2
}
